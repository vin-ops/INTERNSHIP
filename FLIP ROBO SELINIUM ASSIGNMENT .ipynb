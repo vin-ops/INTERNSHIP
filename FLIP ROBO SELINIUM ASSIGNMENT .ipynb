{
 "cells": [
  {
   "cell_type": "code",
   "execution_count": null,
   "id": "3f62a2a9",
   "metadata": {},
   "outputs": [],
   "source": [
    "#!pip install selenium"
   ]
  },
  {
   "cell_type": "code",
   "execution_count": 1,
   "id": "ec63616c",
   "metadata": {},
   "outputs": [],
   "source": [
    "import selenium\n",
    "import pandas as pd\n",
    "from selenium import webdriver\n",
    "import warnings\n",
    "warnings.filterwarnings('ignore')"
   ]
  },
  {
   "cell_type": "markdown",
   "id": "fbbf9842",
   "metadata": {},
   "source": [
    "# ANS 1"
   ]
  },
  {
   "cell_type": "code",
   "execution_count": 172,
   "id": "e7980d3f",
   "metadata": {},
   "outputs": [],
   "source": [
    "# connect with the driver\n",
    "\n",
    "driver=webdriver.Chrome(r'C:\\Users\\vinay\\OneDrive\\Desktop\\New folder\\Chromedriver.exe')"
   ]
  },
  {
   "cell_type": "code",
   "execution_count": 173,
   "id": "e7e4d156",
   "metadata": {},
   "outputs": [],
   "source": [
    "driver.get('https://www.naukri.com/')"
   ]
  },
  {
   "cell_type": "code",
   "execution_count": 174,
   "id": "ea725402",
   "metadata": {},
   "outputs": [],
   "source": [
    "#finding element for job search bar \n",
    "search_job=driver.find_element_by_id('qsb-keyword-sugg')\n",
    "search_job.send_keys('data analyst')\n",
    "search_loc=driver.find_element_by_xpath('//input[@id=\"qsb-location-sugg\"]')\n",
    "search_loc.send_keys('banglore')\n"
   ]
  },
  {
   "cell_type": "code",
   "execution_count": 175,
   "id": "e5b90d84",
   "metadata": {},
   "outputs": [],
   "source": [
    "search_btn=driver.find_element_by_xpath('//div[@class=\"search-btn\"]/button')\n",
    "search_btn.click()"
   ]
  },
  {
   "cell_type": "code",
   "execution_count": 176,
   "id": "e13f90fd",
   "metadata": {},
   "outputs": [],
   "source": [
    "# another way of doing this to give the url directly \n",
    "url='https://www.naukri.com/data-analyst-jobs-in-banglore?k=data%20analyst&l=banglore'"
   ]
  },
  {
   "cell_type": "code",
   "execution_count": 177,
   "id": "8085019e",
   "metadata": {},
   "outputs": [],
   "source": [
    "driver.get(url)"
   ]
  },
  {
   "cell_type": "code",
   "execution_count": 178,
   "id": "a2bafd9c",
   "metadata": {},
   "outputs": [],
   "source": [
    "# we will create empty lists as per the question ,where the data will be stored \n",
    "job_title=[]\n",
    "job_location=[]\n",
    "company_name=[]\n",
    "experience_required=[]"
   ]
  },
  {
   "cell_type": "code",
   "execution_count": 179,
   "id": "6df46190",
   "metadata": {},
   "outputs": [
    {
     "data": {
      "text/plain": [
       "[<selenium.webdriver.remote.webelement.WebElement (session=\"a9d577f1cda73ad2051009caac204e83\", element=\"25fcc784-f1e2-4232-8468-6319aa11bf83\")>,\n",
       " <selenium.webdriver.remote.webelement.WebElement (session=\"a9d577f1cda73ad2051009caac204e83\", element=\"1531a0e8-d267-4fbf-83b6-99d6b067458e\")>,\n",
       " <selenium.webdriver.remote.webelement.WebElement (session=\"a9d577f1cda73ad2051009caac204e83\", element=\"c228dffd-4f5f-4b25-921c-7ff0788d9dd4\")>,\n",
       " <selenium.webdriver.remote.webelement.WebElement (session=\"a9d577f1cda73ad2051009caac204e83\", element=\"93303aa8-c1b9-47e6-8121-052431f483bd\")>,\n",
       " <selenium.webdriver.remote.webelement.WebElement (session=\"a9d577f1cda73ad2051009caac204e83\", element=\"a5162fad-d1c4-43b8-b03c-67ba57740d27\")>,\n",
       " <selenium.webdriver.remote.webelement.WebElement (session=\"a9d577f1cda73ad2051009caac204e83\", element=\"01651ea8-5988-4076-a6b3-1215012561d3\")>,\n",
       " <selenium.webdriver.remote.webelement.WebElement (session=\"a9d577f1cda73ad2051009caac204e83\", element=\"f5f4aa88-d612-4f0f-8dbf-31e955c04a75\")>,\n",
       " <selenium.webdriver.remote.webelement.WebElement (session=\"a9d577f1cda73ad2051009caac204e83\", element=\"2530cd6f-927b-4f9d-a44e-14d9ed037891\")>,\n",
       " <selenium.webdriver.remote.webelement.WebElement (session=\"a9d577f1cda73ad2051009caac204e83\", element=\"c9b06abe-1ca9-4a09-a1c8-2b050fb9f0b5\")>,\n",
       " <selenium.webdriver.remote.webelement.WebElement (session=\"a9d577f1cda73ad2051009caac204e83\", element=\"58437773-ba87-439c-b793-b76b7edd5d67\")>,\n",
       " <selenium.webdriver.remote.webelement.WebElement (session=\"a9d577f1cda73ad2051009caac204e83\", element=\"b6162cec-72d8-4664-8c99-7b280a96d63b\")>,\n",
       " <selenium.webdriver.remote.webelement.WebElement (session=\"a9d577f1cda73ad2051009caac204e83\", element=\"7d05739e-982e-4b55-8e0a-fcfed18fa7d4\")>,\n",
       " <selenium.webdriver.remote.webelement.WebElement (session=\"a9d577f1cda73ad2051009caac204e83\", element=\"a078b023-1ca4-42b9-997f-5265d4895219\")>,\n",
       " <selenium.webdriver.remote.webelement.WebElement (session=\"a9d577f1cda73ad2051009caac204e83\", element=\"fd607880-5ce3-497a-85ad-f2690c3594a7\")>,\n",
       " <selenium.webdriver.remote.webelement.WebElement (session=\"a9d577f1cda73ad2051009caac204e83\", element=\"7cc23083-3cb8-4839-90ca-521b8c28c0ea\")>,\n",
       " <selenium.webdriver.remote.webelement.WebElement (session=\"a9d577f1cda73ad2051009caac204e83\", element=\"1a86b159-de11-4f35-accb-601fc6903b67\")>,\n",
       " <selenium.webdriver.remote.webelement.WebElement (session=\"a9d577f1cda73ad2051009caac204e83\", element=\"46d8876b-4930-430f-81ec-ff6e8d333bf2\")>,\n",
       " <selenium.webdriver.remote.webelement.WebElement (session=\"a9d577f1cda73ad2051009caac204e83\", element=\"8c75bc5d-98a4-4cfd-afc5-e0d5dfa2347c\")>,\n",
       " <selenium.webdriver.remote.webelement.WebElement (session=\"a9d577f1cda73ad2051009caac204e83\", element=\"decc088f-9820-4e95-beb3-3bf9f55c40ec\")>,\n",
       " <selenium.webdriver.remote.webelement.WebElement (session=\"a9d577f1cda73ad2051009caac204e83\", element=\"eaccb85b-5962-4781-9bb1-923629af1ae2\")>]"
      ]
     },
     "execution_count": 179,
     "metadata": {},
     "output_type": "execute_result"
    }
   ],
   "source": [
    "# we are going to extract the tags which contains the job titles \n",
    "\n",
    "title_tags=driver.find_elements_by_xpath('//a[@class=\"title fw500 ellipsis\"]')\n",
    "title_tags"
   ]
  },
  {
   "cell_type": "code",
   "execution_count": 180,
   "id": "ce085779",
   "metadata": {},
   "outputs": [
    {
     "data": {
      "text/plain": [
       "['Data Analyst - Flipkart Analytics',\n",
       " 'Business Data Analyst - Database Design/Mining',\n",
       " 'Urgent Openings For Data Analyst / Business Analyst',\n",
       " 'Data Analyst',\n",
       " 'Data Analyst',\n",
       " 'Data Analyst',\n",
       " 'Lead / Senior Data Analyst',\n",
       " 'Business Data Analyst - MIS & Reporting',\n",
       " 'Business Data Analyst',\n",
       " 'Senior Data Analyst - SQL/Tableau/Redshift']"
      ]
     },
     "execution_count": 180,
     "metadata": {},
     "output_type": "execute_result"
    }
   ],
   "source": [
    "for i in title_tags:\n",
    "    titles=i.text\n",
    "    job_title.append(titles)\n",
    "job_title[0:10]"
   ]
  },
  {
   "cell_type": "code",
   "execution_count": 181,
   "id": "64a87b7c",
   "metadata": {},
   "outputs": [
    {
     "data": {
      "text/plain": [
       "[<selenium.webdriver.remote.webelement.WebElement (session=\"a9d577f1cda73ad2051009caac204e83\", element=\"807948e0-e9f4-4a0a-ac75-658d3ab5b6b7\")>,\n",
       " <selenium.webdriver.remote.webelement.WebElement (session=\"a9d577f1cda73ad2051009caac204e83\", element=\"0fd0d36c-ce67-4ccf-9332-fccfc1d58681\")>,\n",
       " <selenium.webdriver.remote.webelement.WebElement (session=\"a9d577f1cda73ad2051009caac204e83\", element=\"755abb68-22b4-4434-9bfe-492017188958\")>,\n",
       " <selenium.webdriver.remote.webelement.WebElement (session=\"a9d577f1cda73ad2051009caac204e83\", element=\"73d8de3d-b357-46c2-b81a-587b0aae9993\")>,\n",
       " <selenium.webdriver.remote.webelement.WebElement (session=\"a9d577f1cda73ad2051009caac204e83\", element=\"c405aadc-ae9e-4059-9c62-5491da39fc9c\")>,\n",
       " <selenium.webdriver.remote.webelement.WebElement (session=\"a9d577f1cda73ad2051009caac204e83\", element=\"d6437256-3012-4062-8618-b6f0aa5dd887\")>,\n",
       " <selenium.webdriver.remote.webelement.WebElement (session=\"a9d577f1cda73ad2051009caac204e83\", element=\"da55a606-2291-47af-8f26-2d5318571b17\")>,\n",
       " <selenium.webdriver.remote.webelement.WebElement (session=\"a9d577f1cda73ad2051009caac204e83\", element=\"f12f7b36-8bee-4627-b25e-146304546d7b\")>,\n",
       " <selenium.webdriver.remote.webelement.WebElement (session=\"a9d577f1cda73ad2051009caac204e83\", element=\"711bda50-224c-4100-be83-de0780d1879c\")>,\n",
       " <selenium.webdriver.remote.webelement.WebElement (session=\"a9d577f1cda73ad2051009caac204e83\", element=\"aa0a3c76-5392-4ebf-8e81-c88576867e37\")>,\n",
       " <selenium.webdriver.remote.webelement.WebElement (session=\"a9d577f1cda73ad2051009caac204e83\", element=\"be89075b-7478-4265-819a-9f8dca2f3279\")>,\n",
       " <selenium.webdriver.remote.webelement.WebElement (session=\"a9d577f1cda73ad2051009caac204e83\", element=\"ec50a4a2-701a-4cb9-9395-a52939369ff6\")>,\n",
       " <selenium.webdriver.remote.webelement.WebElement (session=\"a9d577f1cda73ad2051009caac204e83\", element=\"2541451c-a7ca-44e5-a6fd-56bed3ebc77d\")>,\n",
       " <selenium.webdriver.remote.webelement.WebElement (session=\"a9d577f1cda73ad2051009caac204e83\", element=\"7276a058-224c-4f20-9ae8-4c88cfca794c\")>,\n",
       " <selenium.webdriver.remote.webelement.WebElement (session=\"a9d577f1cda73ad2051009caac204e83\", element=\"33e1e132-3ed4-49fe-ad38-d052146ef328\")>,\n",
       " <selenium.webdriver.remote.webelement.WebElement (session=\"a9d577f1cda73ad2051009caac204e83\", element=\"9c7013c0-cc0f-40e3-a8ac-103b45f8ee9d\")>,\n",
       " <selenium.webdriver.remote.webelement.WebElement (session=\"a9d577f1cda73ad2051009caac204e83\", element=\"996a6db8-b731-41aa-b407-ca10504e15c3\")>,\n",
       " <selenium.webdriver.remote.webelement.WebElement (session=\"a9d577f1cda73ad2051009caac204e83\", element=\"168f4ab1-e902-40a3-97b2-a20bf14e828c\")>,\n",
       " <selenium.webdriver.remote.webelement.WebElement (session=\"a9d577f1cda73ad2051009caac204e83\", element=\"d6d08bf3-7ef6-45d3-9ae7-795cfa30de83\")>,\n",
       " <selenium.webdriver.remote.webelement.WebElement (session=\"a9d577f1cda73ad2051009caac204e83\", element=\"68b24b1c-e66d-44fc-bb25-050cc3a8074b\")>]"
      ]
     },
     "execution_count": 181,
     "metadata": {},
     "output_type": "execute_result"
    }
   ],
   "source": [
    "loc_tags=driver.find_elements_by_xpath('//li[@class=\"fleft grey-text br2 placeHolderLi location\"]')\n",
    "loc_tags"
   ]
  },
  {
   "cell_type": "code",
   "execution_count": 182,
   "id": "a64e2dc0",
   "metadata": {},
   "outputs": [
    {
     "data": {
      "text/plain": [
       "['Bangalore/Bengaluru(Bellandur)',\n",
       " 'Bangalore/Bengaluru',\n",
       " 'Bangalore/Bengaluru\\n(WFH during Covid)',\n",
       " 'Bangalore/Bengaluru',\n",
       " 'Bangalore/Bengaluru',\n",
       " 'Bangalore/Bengaluru',\n",
       " 'Bangalore/Bengaluru\\n(WFH during Covid)',\n",
       " 'Mumbai, Bangalore/Bengaluru',\n",
       " 'Bangalore/Bengaluru',\n",
       " 'Noida, Mumbai, Indore, Hyderabad/Secunderabad, Pune, Chennai, Bangalore/Bengaluru\\n(WFH during Covid)']"
      ]
     },
     "execution_count": 182,
     "metadata": {},
     "output_type": "execute_result"
    }
   ],
   "source": [
    "for i in loc_tags:\n",
    "    location=i.text\n",
    "    job_location.append(location)\n",
    "job_location[0:10]"
   ]
  },
  {
   "cell_type": "code",
   "execution_count": 183,
   "id": "3de9fc36",
   "metadata": {},
   "outputs": [
    {
     "data": {
      "text/plain": [
       "[<selenium.webdriver.remote.webelement.WebElement (session=\"a9d577f1cda73ad2051009caac204e83\", element=\"cc3eaa9c-88b3-45f2-b400-ff8dd984f45b\")>,\n",
       " <selenium.webdriver.remote.webelement.WebElement (session=\"a9d577f1cda73ad2051009caac204e83\", element=\"4e39c7a4-9207-48f8-a05c-8da120a651a2\")>,\n",
       " <selenium.webdriver.remote.webelement.WebElement (session=\"a9d577f1cda73ad2051009caac204e83\", element=\"2f14a93c-ac5b-463b-9945-5b2dd6e4bbf5\")>,\n",
       " <selenium.webdriver.remote.webelement.WebElement (session=\"a9d577f1cda73ad2051009caac204e83\", element=\"c274b90b-74b8-4dab-84d4-1e7a51a7937f\")>,\n",
       " <selenium.webdriver.remote.webelement.WebElement (session=\"a9d577f1cda73ad2051009caac204e83\", element=\"d9e5d80b-1d5c-43a9-9506-693d42cc1f2e\")>,\n",
       " <selenium.webdriver.remote.webelement.WebElement (session=\"a9d577f1cda73ad2051009caac204e83\", element=\"e69fab48-433d-4ed9-9723-e5faa2bdca94\")>,\n",
       " <selenium.webdriver.remote.webelement.WebElement (session=\"a9d577f1cda73ad2051009caac204e83\", element=\"732af432-a283-48e0-899a-5968d5bb3bab\")>,\n",
       " <selenium.webdriver.remote.webelement.WebElement (session=\"a9d577f1cda73ad2051009caac204e83\", element=\"a48d3637-5f2a-4b01-beb0-fb510ed5a4ae\")>,\n",
       " <selenium.webdriver.remote.webelement.WebElement (session=\"a9d577f1cda73ad2051009caac204e83\", element=\"d04a5953-2e3d-4953-abf5-2f657649c32d\")>,\n",
       " <selenium.webdriver.remote.webelement.WebElement (session=\"a9d577f1cda73ad2051009caac204e83\", element=\"c35caf48-e566-44d9-91b6-b79e42f8a07b\")>,\n",
       " <selenium.webdriver.remote.webelement.WebElement (session=\"a9d577f1cda73ad2051009caac204e83\", element=\"6fda63f7-d7ff-4e2a-a87c-2ca5b19e6141\")>,\n",
       " <selenium.webdriver.remote.webelement.WebElement (session=\"a9d577f1cda73ad2051009caac204e83\", element=\"687c841b-5697-4805-b464-5f90c15d08cb\")>,\n",
       " <selenium.webdriver.remote.webelement.WebElement (session=\"a9d577f1cda73ad2051009caac204e83\", element=\"ad8cb913-58c7-4ae1-bd40-94187915b5b6\")>,\n",
       " <selenium.webdriver.remote.webelement.WebElement (session=\"a9d577f1cda73ad2051009caac204e83\", element=\"09afc25d-1575-4222-ac6b-35ba8847aea1\")>,\n",
       " <selenium.webdriver.remote.webelement.WebElement (session=\"a9d577f1cda73ad2051009caac204e83\", element=\"02278b13-22d6-4208-8ac4-b830de16cdf1\")>,\n",
       " <selenium.webdriver.remote.webelement.WebElement (session=\"a9d577f1cda73ad2051009caac204e83\", element=\"3428c668-9bd6-4527-aa18-602fb70a21ad\")>,\n",
       " <selenium.webdriver.remote.webelement.WebElement (session=\"a9d577f1cda73ad2051009caac204e83\", element=\"236c1eab-b282-4b62-a0e0-6e9111d130d1\")>,\n",
       " <selenium.webdriver.remote.webelement.WebElement (session=\"a9d577f1cda73ad2051009caac204e83\", element=\"0f1307cd-c014-4ada-b22f-1d77f681a471\")>,\n",
       " <selenium.webdriver.remote.webelement.WebElement (session=\"a9d577f1cda73ad2051009caac204e83\", element=\"ce8f390f-e453-42e6-8812-1824846cd535\")>,\n",
       " <selenium.webdriver.remote.webelement.WebElement (session=\"a9d577f1cda73ad2051009caac204e83\", element=\"0e13abf6-812b-49a2-972b-d370208afa94\")>]"
      ]
     },
     "execution_count": 183,
     "metadata": {},
     "output_type": "execute_result"
    }
   ],
   "source": [
    "company_tag=driver.find_elements_by_xpath('//a[@class=\"subTitle ellipsis fleft\"]')\n",
    "company_tag"
   ]
  },
  {
   "cell_type": "code",
   "execution_count": 184,
   "id": "cec99c81",
   "metadata": {},
   "outputs": [
    {
     "data": {
      "text/plain": [
       "['Flipkart',\n",
       " 'AugmatrixGo',\n",
       " 'Flipkart',\n",
       " 'Applied Materials',\n",
       " 'Shell',\n",
       " 'Shell',\n",
       " 'EVERGREEN COMMUNITY PRIVATE LIMITED',\n",
       " 'INTERTRUST GROUP',\n",
       " 'NetApp',\n",
       " 'Pronto Consulting Services']"
      ]
     },
     "execution_count": 184,
     "metadata": {},
     "output_type": "execute_result"
    }
   ],
   "source": [
    "for i in company_tag:\n",
    "    company=i.text\n",
    "    company_name.append(company)\n",
    "company_name[0:10] "
   ]
  },
  {
   "cell_type": "code",
   "execution_count": 185,
   "id": "907a8f2d",
   "metadata": {},
   "outputs": [
    {
     "data": {
      "text/plain": [
       "[<selenium.webdriver.remote.webelement.WebElement (session=\"a9d577f1cda73ad2051009caac204e83\", element=\"43dc60f3-1182-4a65-acc0-fb44ef9ee645\")>,\n",
       " <selenium.webdriver.remote.webelement.WebElement (session=\"a9d577f1cda73ad2051009caac204e83\", element=\"8172ddd7-588b-46d6-9020-613bccc511f0\")>,\n",
       " <selenium.webdriver.remote.webelement.WebElement (session=\"a9d577f1cda73ad2051009caac204e83\", element=\"989a53ca-5125-4238-9ecc-0019ba216a0a\")>,\n",
       " <selenium.webdriver.remote.webelement.WebElement (session=\"a9d577f1cda73ad2051009caac204e83\", element=\"68c03942-2899-4669-9757-73c4b4c7ed2a\")>,\n",
       " <selenium.webdriver.remote.webelement.WebElement (session=\"a9d577f1cda73ad2051009caac204e83\", element=\"d0fab98b-342e-4b20-9f1c-7060bb23ba7d\")>,\n",
       " <selenium.webdriver.remote.webelement.WebElement (session=\"a9d577f1cda73ad2051009caac204e83\", element=\"45451101-4b15-45d8-ab22-9cdb34c666ef\")>,\n",
       " <selenium.webdriver.remote.webelement.WebElement (session=\"a9d577f1cda73ad2051009caac204e83\", element=\"72b1a4be-b4e5-41d4-ac29-2f385c77b4f8\")>,\n",
       " <selenium.webdriver.remote.webelement.WebElement (session=\"a9d577f1cda73ad2051009caac204e83\", element=\"92168efc-44a4-47d6-b5a3-76af1bcd60aa\")>,\n",
       " <selenium.webdriver.remote.webelement.WebElement (session=\"a9d577f1cda73ad2051009caac204e83\", element=\"f69bdb78-4cfb-443c-9e5f-975e247649ab\")>,\n",
       " <selenium.webdriver.remote.webelement.WebElement (session=\"a9d577f1cda73ad2051009caac204e83\", element=\"15eb3d0a-8630-4e36-b622-c09bf9d3af4d\")>,\n",
       " <selenium.webdriver.remote.webelement.WebElement (session=\"a9d577f1cda73ad2051009caac204e83\", element=\"b6d8b404-b3bf-43e4-9f96-835785658ebd\")>,\n",
       " <selenium.webdriver.remote.webelement.WebElement (session=\"a9d577f1cda73ad2051009caac204e83\", element=\"efb91793-531f-4870-ba36-5acaf1616bd6\")>,\n",
       " <selenium.webdriver.remote.webelement.WebElement (session=\"a9d577f1cda73ad2051009caac204e83\", element=\"f2c2d229-9c8f-4b97-afbc-3f1bfbbf2ee6\")>,\n",
       " <selenium.webdriver.remote.webelement.WebElement (session=\"a9d577f1cda73ad2051009caac204e83\", element=\"b0b7336e-0d5e-4da3-9f56-7176b2e5a93b\")>,\n",
       " <selenium.webdriver.remote.webelement.WebElement (session=\"a9d577f1cda73ad2051009caac204e83\", element=\"e2a6c955-2fb4-448a-ac9f-cb246830a3fc\")>,\n",
       " <selenium.webdriver.remote.webelement.WebElement (session=\"a9d577f1cda73ad2051009caac204e83\", element=\"22067a27-3ab1-49ed-b42d-15b44d69c7e7\")>,\n",
       " <selenium.webdriver.remote.webelement.WebElement (session=\"a9d577f1cda73ad2051009caac204e83\", element=\"9a5a5b5d-09d4-496f-a8be-32304809e101\")>,\n",
       " <selenium.webdriver.remote.webelement.WebElement (session=\"a9d577f1cda73ad2051009caac204e83\", element=\"0f0e1087-95d9-45e9-8e15-d4d0c516267e\")>,\n",
       " <selenium.webdriver.remote.webelement.WebElement (session=\"a9d577f1cda73ad2051009caac204e83\", element=\"84ce2c60-672b-4bf8-8850-97ded4595b11\")>,\n",
       " <selenium.webdriver.remote.webelement.WebElement (session=\"a9d577f1cda73ad2051009caac204e83\", element=\"cf9cef87-1abb-4013-a246-e9ef0618405d\")>]"
      ]
     },
     "execution_count": 185,
     "metadata": {},
     "output_type": "execute_result"
    }
   ],
   "source": [
    "experience_tag=driver.find_elements_by_xpath('//li[@class=\"fleft grey-text br2 placeHolderLi experience\"]')\n",
    "experience_tag"
   ]
  },
  {
   "cell_type": "code",
   "execution_count": 186,
   "id": "90e924c8",
   "metadata": {},
   "outputs": [
    {
     "data": {
      "text/plain": [
       "['0-3 Yrs',\n",
       " '2-5 Yrs',\n",
       " '1-6 Yrs',\n",
       " '0-3 Yrs',\n",
       " '5-8 Yrs',\n",
       " '5-10 Yrs',\n",
       " '4-6 Yrs',\n",
       " '3-8 Yrs',\n",
       " '5-10 Yrs',\n",
       " '6-10 Yrs']"
      ]
     },
     "execution_count": 186,
     "metadata": {},
     "output_type": "execute_result"
    }
   ],
   "source": [
    "for i in experience_tag:\n",
    "    experience=i.text\n",
    "    experience_required.append(experience)\n",
    "experience_required[0:10]"
   ]
  },
  {
   "cell_type": "code",
   "execution_count": 188,
   "id": "91ffe765",
   "metadata": {},
   "outputs": [
    {
     "data": {
      "text/html": [
       "<div>\n",
       "<style scoped>\n",
       "    .dataframe tbody tr th:only-of-type {\n",
       "        vertical-align: middle;\n",
       "    }\n",
       "\n",
       "    .dataframe tbody tr th {\n",
       "        vertical-align: top;\n",
       "    }\n",
       "\n",
       "    .dataframe thead th {\n",
       "        text-align: right;\n",
       "    }\n",
       "</style>\n",
       "<table border=\"1\" class=\"dataframe\">\n",
       "  <thead>\n",
       "    <tr style=\"text-align: right;\">\n",
       "      <th></th>\n",
       "      <th>JOB TITLE</th>\n",
       "      <th>JOB LOCATION</th>\n",
       "      <th>COMPANY NAME</th>\n",
       "      <th>EXPERIENCED REQURIED</th>\n",
       "    </tr>\n",
       "  </thead>\n",
       "  <tbody>\n",
       "    <tr>\n",
       "      <th>0</th>\n",
       "      <td>Data Analyst - Flipkart Analytics</td>\n",
       "      <td>Bangalore/Bengaluru(Bellandur)</td>\n",
       "      <td>Flipkart</td>\n",
       "      <td>0-3 Yrs</td>\n",
       "    </tr>\n",
       "    <tr>\n",
       "      <th>1</th>\n",
       "      <td>Business Data Analyst - Database Design/Mining</td>\n",
       "      <td>Bangalore/Bengaluru</td>\n",
       "      <td>AugmatrixGo</td>\n",
       "      <td>2-5 Yrs</td>\n",
       "    </tr>\n",
       "    <tr>\n",
       "      <th>2</th>\n",
       "      <td>Urgent Openings For Data Analyst / Business An...</td>\n",
       "      <td>Bangalore/Bengaluru\\n(WFH during Covid)</td>\n",
       "      <td>Flipkart</td>\n",
       "      <td>1-6 Yrs</td>\n",
       "    </tr>\n",
       "    <tr>\n",
       "      <th>3</th>\n",
       "      <td>Data Analyst</td>\n",
       "      <td>Bangalore/Bengaluru</td>\n",
       "      <td>Applied Materials</td>\n",
       "      <td>0-3 Yrs</td>\n",
       "    </tr>\n",
       "    <tr>\n",
       "      <th>4</th>\n",
       "      <td>Data Analyst</td>\n",
       "      <td>Bangalore/Bengaluru</td>\n",
       "      <td>Shell</td>\n",
       "      <td>5-8 Yrs</td>\n",
       "    </tr>\n",
       "    <tr>\n",
       "      <th>5</th>\n",
       "      <td>Data Analyst</td>\n",
       "      <td>Bangalore/Bengaluru</td>\n",
       "      <td>Shell</td>\n",
       "      <td>5-10 Yrs</td>\n",
       "    </tr>\n",
       "    <tr>\n",
       "      <th>6</th>\n",
       "      <td>Lead / Senior Data Analyst</td>\n",
       "      <td>Bangalore/Bengaluru\\n(WFH during Covid)</td>\n",
       "      <td>EVERGREEN COMMUNITY PRIVATE LIMITED</td>\n",
       "      <td>4-6 Yrs</td>\n",
       "    </tr>\n",
       "    <tr>\n",
       "      <th>7</th>\n",
       "      <td>Business Data Analyst - MIS &amp; Reporting</td>\n",
       "      <td>Mumbai, Bangalore/Bengaluru</td>\n",
       "      <td>INTERTRUST GROUP</td>\n",
       "      <td>3-8 Yrs</td>\n",
       "    </tr>\n",
       "    <tr>\n",
       "      <th>8</th>\n",
       "      <td>Business Data Analyst</td>\n",
       "      <td>Bangalore/Bengaluru</td>\n",
       "      <td>NetApp</td>\n",
       "      <td>5-10 Yrs</td>\n",
       "    </tr>\n",
       "    <tr>\n",
       "      <th>9</th>\n",
       "      <td>Senior Data Analyst - SQL/Tableau/Redshift</td>\n",
       "      <td>Noida, Mumbai, Indore, Hyderabad/Secunderabad,...</td>\n",
       "      <td>Pronto Consulting Services</td>\n",
       "      <td>6-10 Yrs</td>\n",
       "    </tr>\n",
       "  </tbody>\n",
       "</table>\n",
       "</div>"
      ],
      "text/plain": [
       "                                           JOB TITLE  \\\n",
       "0                  Data Analyst - Flipkart Analytics   \n",
       "1     Business Data Analyst - Database Design/Mining   \n",
       "2  Urgent Openings For Data Analyst / Business An...   \n",
       "3                                       Data Analyst   \n",
       "4                                       Data Analyst   \n",
       "5                                       Data Analyst   \n",
       "6                         Lead / Senior Data Analyst   \n",
       "7            Business Data Analyst - MIS & Reporting   \n",
       "8                              Business Data Analyst   \n",
       "9         Senior Data Analyst - SQL/Tableau/Redshift   \n",
       "\n",
       "                                        JOB LOCATION  \\\n",
       "0                     Bangalore/Bengaluru(Bellandur)   \n",
       "1                                Bangalore/Bengaluru   \n",
       "2            Bangalore/Bengaluru\\n(WFH during Covid)   \n",
       "3                                Bangalore/Bengaluru   \n",
       "4                                Bangalore/Bengaluru   \n",
       "5                                Bangalore/Bengaluru   \n",
       "6            Bangalore/Bengaluru\\n(WFH during Covid)   \n",
       "7                        Mumbai, Bangalore/Bengaluru   \n",
       "8                                Bangalore/Bengaluru   \n",
       "9  Noida, Mumbai, Indore, Hyderabad/Secunderabad,...   \n",
       "\n",
       "                          COMPANY NAME EXPERIENCED REQURIED  \n",
       "0                             Flipkart              0-3 Yrs  \n",
       "1                          AugmatrixGo              2-5 Yrs  \n",
       "2                             Flipkart              1-6 Yrs  \n",
       "3                    Applied Materials              0-3 Yrs  \n",
       "4                                Shell              5-8 Yrs  \n",
       "5                                Shell             5-10 Yrs  \n",
       "6  EVERGREEN COMMUNITY PRIVATE LIMITED              4-6 Yrs  \n",
       "7                     INTERTRUST GROUP              3-8 Yrs  \n",
       "8                               NetApp             5-10 Yrs  \n",
       "9           Pronto Consulting Services             6-10 Yrs  "
      ]
     },
     "execution_count": 188,
     "metadata": {},
     "output_type": "execute_result"
    }
   ],
   "source": [
    "data={'JOB TITLE':job_title,'JOB LOCATION':job_location,'COMPANY NAME':company_name,'EXPERIENCED REQURIED':experience_required}\n",
    "df=pd.DataFrame(data)\n",
    "df.head(10)"
   ]
  },
  {
   "cell_type": "markdown",
   "id": "9d019176",
   "metadata": {},
   "source": [
    "# ANS 2"
   ]
  },
  {
   "cell_type": "code",
   "execution_count": 2,
   "id": "c142c795",
   "metadata": {},
   "outputs": [],
   "source": [
    "# connect with the driver\n",
    "\n",
    "driver=webdriver.Chrome(r'C:\\Users\\vinay\\OneDrive\\Desktop\\New folder\\Chromedriver.exe')"
   ]
  },
  {
   "cell_type": "code",
   "execution_count": 3,
   "id": "55b80bc4",
   "metadata": {},
   "outputs": [],
   "source": [
    "driver.get('https://www.naukri.com/')"
   ]
  },
  {
   "cell_type": "code",
   "execution_count": 4,
   "id": "b1141e8e",
   "metadata": {},
   "outputs": [],
   "source": [
    "#finding element for job search bar \n",
    "search_job=driver.find_element_by_id('qsb-keyword-sugg')\n",
    "search_job.send_keys('data scientist')\n",
    "search_loc=driver.find_element_by_xpath('//input[@id=\"qsb-location-sugg\"]')\n",
    "search_loc.send_keys('banglore')\n"
   ]
  },
  {
   "cell_type": "code",
   "execution_count": 5,
   "id": "c1186afa",
   "metadata": {},
   "outputs": [],
   "source": [
    "search_but=driver.find_element_by_xpath('//div[@class=\"search-btn\"]/button')\n",
    "search_but.click()"
   ]
  },
  {
   "cell_type": "code",
   "execution_count": 6,
   "id": "70d9e360",
   "metadata": {},
   "outputs": [],
   "source": [
    "#making empty list to fill the scraped data \n",
    "job_title=[]\n",
    "job_location=[]\n",
    "company_name=[]"
   ]
  },
  {
   "cell_type": "code",
   "execution_count": 7,
   "id": "f1456b67",
   "metadata": {},
   "outputs": [
    {
     "data": {
      "text/plain": [
       "[<selenium.webdriver.remote.webelement.WebElement (session=\"d1cc658b08adb952ba3c3071af4f8ca6\", element=\"9151aff9-da3e-43da-b3c6-6f368f19b817\")>,\n",
       " <selenium.webdriver.remote.webelement.WebElement (session=\"d1cc658b08adb952ba3c3071af4f8ca6\", element=\"efeee169-1943-44c6-b6b8-130f6d8a9a57\")>,\n",
       " <selenium.webdriver.remote.webelement.WebElement (session=\"d1cc658b08adb952ba3c3071af4f8ca6\", element=\"58b34965-2618-485f-b4e0-b0a2725e9524\")>,\n",
       " <selenium.webdriver.remote.webelement.WebElement (session=\"d1cc658b08adb952ba3c3071af4f8ca6\", element=\"d459029f-099a-4f3e-9f92-4980510de447\")>,\n",
       " <selenium.webdriver.remote.webelement.WebElement (session=\"d1cc658b08adb952ba3c3071af4f8ca6\", element=\"bcc450e8-c677-4b83-94c6-d6a774a868d6\")>,\n",
       " <selenium.webdriver.remote.webelement.WebElement (session=\"d1cc658b08adb952ba3c3071af4f8ca6\", element=\"63ce2028-952a-42e1-9b1e-94a9e0c261be\")>,\n",
       " <selenium.webdriver.remote.webelement.WebElement (session=\"d1cc658b08adb952ba3c3071af4f8ca6\", element=\"01995f42-aaaf-4e7b-8a16-0ca032e7d295\")>,\n",
       " <selenium.webdriver.remote.webelement.WebElement (session=\"d1cc658b08adb952ba3c3071af4f8ca6\", element=\"ea6a08c9-81fb-45be-89ab-0dfb0f24e818\")>,\n",
       " <selenium.webdriver.remote.webelement.WebElement (session=\"d1cc658b08adb952ba3c3071af4f8ca6\", element=\"80a9c7b1-b5e7-4254-b31b-65b117e19a77\")>,\n",
       " <selenium.webdriver.remote.webelement.WebElement (session=\"d1cc658b08adb952ba3c3071af4f8ca6\", element=\"9120c007-451e-45f6-a401-afa3ba49977a\")>,\n",
       " <selenium.webdriver.remote.webelement.WebElement (session=\"d1cc658b08adb952ba3c3071af4f8ca6\", element=\"256929a9-dd46-4c2f-a1e1-9bbbdfd10a00\")>,\n",
       " <selenium.webdriver.remote.webelement.WebElement (session=\"d1cc658b08adb952ba3c3071af4f8ca6\", element=\"2ae16016-8d8b-496a-af07-736f50dd909a\")>,\n",
       " <selenium.webdriver.remote.webelement.WebElement (session=\"d1cc658b08adb952ba3c3071af4f8ca6\", element=\"3c0128c6-ea00-43b7-913a-c49313e636d6\")>,\n",
       " <selenium.webdriver.remote.webelement.WebElement (session=\"d1cc658b08adb952ba3c3071af4f8ca6\", element=\"f322e319-9680-477e-a6c6-2b6933746184\")>,\n",
       " <selenium.webdriver.remote.webelement.WebElement (session=\"d1cc658b08adb952ba3c3071af4f8ca6\", element=\"8dbb8706-0548-4fed-8d8f-7ba28a4e9a14\")>,\n",
       " <selenium.webdriver.remote.webelement.WebElement (session=\"d1cc658b08adb952ba3c3071af4f8ca6\", element=\"55e124bf-111b-4dcc-91f8-d4f623243df9\")>,\n",
       " <selenium.webdriver.remote.webelement.WebElement (session=\"d1cc658b08adb952ba3c3071af4f8ca6\", element=\"973b9181-7ebe-4b6a-a0c2-5f6a028700df\")>,\n",
       " <selenium.webdriver.remote.webelement.WebElement (session=\"d1cc658b08adb952ba3c3071af4f8ca6\", element=\"6e91f255-693e-45d1-b839-0f607a7ef974\")>,\n",
       " <selenium.webdriver.remote.webelement.WebElement (session=\"d1cc658b08adb952ba3c3071af4f8ca6\", element=\"74247ca1-f281-49d0-a2db-61a2f48096da\")>,\n",
       " <selenium.webdriver.remote.webelement.WebElement (session=\"d1cc658b08adb952ba3c3071af4f8ca6\", element=\"729c70ef-f437-4bd1-9597-e867bc2bf71b\")>]"
      ]
     },
     "execution_count": 7,
     "metadata": {},
     "output_type": "execute_result"
    }
   ],
   "source": [
    "# we are going to extract the tags which contains the job titles \n",
    "\n",
    "title_tags=driver.find_elements_by_xpath('//a[@class=\"title fw500 ellipsis\"]')\n",
    "title_tags"
   ]
  },
  {
   "cell_type": "code",
   "execution_count": 8,
   "id": "090e5e6d",
   "metadata": {},
   "outputs": [
    {
     "data": {
      "text/plain": [
       "10"
      ]
     },
     "execution_count": 8,
     "metadata": {},
     "output_type": "execute_result"
    }
   ],
   "source": [
    "for i in title_tags:\n",
    "    title=i.text\n",
    "    job_title.append(title)\n",
    "job_title\n",
    "len(job_title)\n",
    "job_title=job_title[0:10]\n",
    "len(job_title)"
   ]
  },
  {
   "cell_type": "code",
   "execution_count": 9,
   "id": "aac01a34",
   "metadata": {},
   "outputs": [
    {
     "data": {
      "text/plain": [
       "['Process Innovation Analyst - APAC/Data Scientist - Third Party Role',\n",
       " 'Data Scientist: Advanced Analytics',\n",
       " 'Data Scientist: Artificial Intelligence',\n",
       " 'Senior Data Scientist - Insights',\n",
       " 'Senior Data Scientist - Computer Vision',\n",
       " 'Senior Data Scientist | Fortune 500 Supermarket Chain',\n",
       " 'Data Scientist /Senior Data Scientist',\n",
       " 'Sr Data Scientist / Data Scientist',\n",
       " 'Senior Data Scientist',\n",
       " 'Forecasting Analyst/ Data Scientist (US Client)']"
      ]
     },
     "execution_count": 9,
     "metadata": {},
     "output_type": "execute_result"
    }
   ],
   "source": [
    "job_title"
   ]
  },
  {
   "cell_type": "code",
   "execution_count": 10,
   "id": "e8b801ee",
   "metadata": {},
   "outputs": [
    {
     "data": {
      "text/plain": [
       "[<selenium.webdriver.remote.webelement.WebElement (session=\"d1cc658b08adb952ba3c3071af4f8ca6\", element=\"60c6129b-4022-462f-bcb8-aaa3f09a14bb\")>,\n",
       " <selenium.webdriver.remote.webelement.WebElement (session=\"d1cc658b08adb952ba3c3071af4f8ca6\", element=\"6476d7a5-cdab-4cd1-a78f-e392bd956960\")>,\n",
       " <selenium.webdriver.remote.webelement.WebElement (session=\"d1cc658b08adb952ba3c3071af4f8ca6\", element=\"eacdea76-4109-48dd-81eb-d96f415980e5\")>,\n",
       " <selenium.webdriver.remote.webelement.WebElement (session=\"d1cc658b08adb952ba3c3071af4f8ca6\", element=\"22c72926-11fc-44cf-b698-c6907ceebe4b\")>,\n",
       " <selenium.webdriver.remote.webelement.WebElement (session=\"d1cc658b08adb952ba3c3071af4f8ca6\", element=\"b492f1ee-ec7c-42ae-ba0f-e41a0ebd0880\")>,\n",
       " <selenium.webdriver.remote.webelement.WebElement (session=\"d1cc658b08adb952ba3c3071af4f8ca6\", element=\"e86ad05b-d2a5-4191-bac6-04dc44f95869\")>,\n",
       " <selenium.webdriver.remote.webelement.WebElement (session=\"d1cc658b08adb952ba3c3071af4f8ca6\", element=\"c51ed20a-ba49-47bd-bb2b-adf8857fabe9\")>,\n",
       " <selenium.webdriver.remote.webelement.WebElement (session=\"d1cc658b08adb952ba3c3071af4f8ca6\", element=\"58255f0d-c526-4059-840e-91e054babd62\")>,\n",
       " <selenium.webdriver.remote.webelement.WebElement (session=\"d1cc658b08adb952ba3c3071af4f8ca6\", element=\"f3b2f989-b9c8-4002-ac02-26e73bf07e44\")>,\n",
       " <selenium.webdriver.remote.webelement.WebElement (session=\"d1cc658b08adb952ba3c3071af4f8ca6\", element=\"995b2a75-50ae-4353-808c-6813656d5bfe\")>,\n",
       " <selenium.webdriver.remote.webelement.WebElement (session=\"d1cc658b08adb952ba3c3071af4f8ca6\", element=\"9186e479-889e-4869-9f01-401a7b219a85\")>,\n",
       " <selenium.webdriver.remote.webelement.WebElement (session=\"d1cc658b08adb952ba3c3071af4f8ca6\", element=\"d14550d4-479a-441c-a86d-8c7ef2b76063\")>,\n",
       " <selenium.webdriver.remote.webelement.WebElement (session=\"d1cc658b08adb952ba3c3071af4f8ca6\", element=\"7212af06-b26b-4f64-98d8-b06757dd8786\")>,\n",
       " <selenium.webdriver.remote.webelement.WebElement (session=\"d1cc658b08adb952ba3c3071af4f8ca6\", element=\"7dcf4254-a0cd-40c5-91f5-fa8febf94a5f\")>,\n",
       " <selenium.webdriver.remote.webelement.WebElement (session=\"d1cc658b08adb952ba3c3071af4f8ca6\", element=\"6698e186-1586-4a3b-954a-e6b92865c6e7\")>,\n",
       " <selenium.webdriver.remote.webelement.WebElement (session=\"d1cc658b08adb952ba3c3071af4f8ca6\", element=\"f926adf2-7803-4bc5-a715-046cbb9f1d61\")>,\n",
       " <selenium.webdriver.remote.webelement.WebElement (session=\"d1cc658b08adb952ba3c3071af4f8ca6\", element=\"8d487064-bda5-4dd9-a63b-88c4726091d2\")>,\n",
       " <selenium.webdriver.remote.webelement.WebElement (session=\"d1cc658b08adb952ba3c3071af4f8ca6\", element=\"f984d261-125c-4f9e-98a7-28d50d7eb04d\")>,\n",
       " <selenium.webdriver.remote.webelement.WebElement (session=\"d1cc658b08adb952ba3c3071af4f8ca6\", element=\"23cbb4ac-d4b6-400c-b987-d9b6ebc4bc92\")>,\n",
       " <selenium.webdriver.remote.webelement.WebElement (session=\"d1cc658b08adb952ba3c3071af4f8ca6\", element=\"cb0fd97e-4bcd-4153-ade9-c6a48cd5abe9\")>]"
      ]
     },
     "execution_count": 10,
     "metadata": {},
     "output_type": "execute_result"
    }
   ],
   "source": [
    "loc_tags=driver.find_elements_by_xpath('//li[@class=\"fleft grey-text br2 placeHolderLi location\"]/span[1]')\n",
    "loc_tags"
   ]
  },
  {
   "cell_type": "code",
   "execution_count": 11,
   "id": "4be004fb",
   "metadata": {},
   "outputs": [
    {
     "data": {
      "text/plain": [
       "['Bangalore/Bengaluru, Hyderabad',\n",
       " 'Bangalore/Bengaluru',\n",
       " 'Bangalore/Bengaluru',\n",
       " 'Bangalore/Bengaluru',\n",
       " 'Bangalore/Bengaluru',\n",
       " 'Bangalore/Bengaluru',\n",
       " 'Chennai, Bangalore/Bengaluru',\n",
       " 'Bangalore/Bengaluru, Mumbai (All Areas)',\n",
       " 'Bangalore/Bengaluru',\n",
       " 'Gurgaon/Gurugram, Bangalore/Bengaluru']"
      ]
     },
     "execution_count": 11,
     "metadata": {},
     "output_type": "execute_result"
    }
   ],
   "source": [
    "for i in loc_tags:\n",
    "    loc=i.text\n",
    "    job_location.append(loc)\n",
    "jobloc=job_location[0:10]\n",
    "jobloc"
   ]
  },
  {
   "cell_type": "code",
   "execution_count": 12,
   "id": "d9f23fe2",
   "metadata": {},
   "outputs": [
    {
     "data": {
      "text/plain": [
       "['Bayer',\n",
       " 'IBM India Pvt. Limited',\n",
       " 'IBM India Pvt. Limited',\n",
       " 'Autodesk India Pvt Ltd',\n",
       " 'GE Transportation',\n",
       " 'TALENT500 TECH (INDIA) PRIVATE LIMITED',\n",
       " 'Dun & Bradstreet',\n",
       " 'intelligent industrial internet systems pvt ltd.',\n",
       " 'Siemens Limited',\n",
       " 'Concentrix Daksh Services']"
      ]
     },
     "execution_count": 12,
     "metadata": {},
     "output_type": "execute_result"
    }
   ],
   "source": [
    "company_tag=driver.find_elements_by_xpath('//a[@class=\"subTitle ellipsis fleft\"]')\n",
    "company_tag\n",
    "for i in company_tag:\n",
    "    company=i.text\n",
    "    company_name.append(company)\n",
    "comp=company_name[0:10]\n",
    "comp"
   ]
  },
  {
   "cell_type": "code",
   "execution_count": 15,
   "id": "01e98eb5",
   "metadata": {},
   "outputs": [
    {
     "name": "stdout",
     "output_type": "stream",
     "text": [
      "10 10 10\n"
     ]
    }
   ],
   "source": [
    "print(len(job_title),len(jobloc),len(comp))"
   ]
  },
  {
   "cell_type": "code",
   "execution_count": 16,
   "id": "3becc270",
   "metadata": {},
   "outputs": [
    {
     "data": {
      "text/html": [
       "<div>\n",
       "<style scoped>\n",
       "    .dataframe tbody tr th:only-of-type {\n",
       "        vertical-align: middle;\n",
       "    }\n",
       "\n",
       "    .dataframe tbody tr th {\n",
       "        vertical-align: top;\n",
       "    }\n",
       "\n",
       "    .dataframe thead th {\n",
       "        text-align: right;\n",
       "    }\n",
       "</style>\n",
       "<table border=\"1\" class=\"dataframe\">\n",
       "  <thead>\n",
       "    <tr style=\"text-align: right;\">\n",
       "      <th></th>\n",
       "      <th>JOB TITLE</th>\n",
       "      <th>JOB LOCATION</th>\n",
       "      <th>COMPANY NAME</th>\n",
       "    </tr>\n",
       "  </thead>\n",
       "  <tbody>\n",
       "    <tr>\n",
       "      <th>0</th>\n",
       "      <td>Process Innovation Analyst - APAC/Data Scienti...</td>\n",
       "      <td>Bangalore/Bengaluru, Hyderabad</td>\n",
       "      <td>Bayer</td>\n",
       "    </tr>\n",
       "    <tr>\n",
       "      <th>1</th>\n",
       "      <td>Data Scientist: Advanced Analytics</td>\n",
       "      <td>Bangalore/Bengaluru</td>\n",
       "      <td>IBM India Pvt. Limited</td>\n",
       "    </tr>\n",
       "    <tr>\n",
       "      <th>2</th>\n",
       "      <td>Data Scientist: Artificial Intelligence</td>\n",
       "      <td>Bangalore/Bengaluru</td>\n",
       "      <td>IBM India Pvt. Limited</td>\n",
       "    </tr>\n",
       "    <tr>\n",
       "      <th>3</th>\n",
       "      <td>Senior Data Scientist - Insights</td>\n",
       "      <td>Bangalore/Bengaluru</td>\n",
       "      <td>Autodesk India Pvt Ltd</td>\n",
       "    </tr>\n",
       "    <tr>\n",
       "      <th>4</th>\n",
       "      <td>Senior Data Scientist - Computer Vision</td>\n",
       "      <td>Bangalore/Bengaluru</td>\n",
       "      <td>GE Transportation</td>\n",
       "    </tr>\n",
       "    <tr>\n",
       "      <th>5</th>\n",
       "      <td>Senior Data Scientist | Fortune 500 Supermarke...</td>\n",
       "      <td>Bangalore/Bengaluru</td>\n",
       "      <td>TALENT500 TECH (INDIA) PRIVATE LIMITED</td>\n",
       "    </tr>\n",
       "    <tr>\n",
       "      <th>6</th>\n",
       "      <td>Data Scientist /Senior Data Scientist</td>\n",
       "      <td>Chennai, Bangalore/Bengaluru</td>\n",
       "      <td>Dun &amp; Bradstreet</td>\n",
       "    </tr>\n",
       "    <tr>\n",
       "      <th>7</th>\n",
       "      <td>Sr Data Scientist / Data Scientist</td>\n",
       "      <td>Bangalore/Bengaluru, Mumbai (All Areas)</td>\n",
       "      <td>intelligent industrial internet systems pvt ltd.</td>\n",
       "    </tr>\n",
       "    <tr>\n",
       "      <th>8</th>\n",
       "      <td>Senior Data Scientist</td>\n",
       "      <td>Bangalore/Bengaluru</td>\n",
       "      <td>Siemens Limited</td>\n",
       "    </tr>\n",
       "    <tr>\n",
       "      <th>9</th>\n",
       "      <td>Forecasting Analyst/ Data Scientist (US Client)</td>\n",
       "      <td>Gurgaon/Gurugram, Bangalore/Bengaluru</td>\n",
       "      <td>Concentrix Daksh Services</td>\n",
       "    </tr>\n",
       "  </tbody>\n",
       "</table>\n",
       "</div>"
      ],
      "text/plain": [
       "                                           JOB TITLE  \\\n",
       "0  Process Innovation Analyst - APAC/Data Scienti...   \n",
       "1                 Data Scientist: Advanced Analytics   \n",
       "2            Data Scientist: Artificial Intelligence   \n",
       "3                   Senior Data Scientist - Insights   \n",
       "4            Senior Data Scientist - Computer Vision   \n",
       "5  Senior Data Scientist | Fortune 500 Supermarke...   \n",
       "6              Data Scientist /Senior Data Scientist   \n",
       "7                 Sr Data Scientist / Data Scientist   \n",
       "8                              Senior Data Scientist   \n",
       "9    Forecasting Analyst/ Data Scientist (US Client)   \n",
       "\n",
       "                              JOB LOCATION  \\\n",
       "0           Bangalore/Bengaluru, Hyderabad   \n",
       "1                      Bangalore/Bengaluru   \n",
       "2                      Bangalore/Bengaluru   \n",
       "3                      Bangalore/Bengaluru   \n",
       "4                      Bangalore/Bengaluru   \n",
       "5                      Bangalore/Bengaluru   \n",
       "6             Chennai, Bangalore/Bengaluru   \n",
       "7  Bangalore/Bengaluru, Mumbai (All Areas)   \n",
       "8                      Bangalore/Bengaluru   \n",
       "9    Gurgaon/Gurugram, Bangalore/Bengaluru   \n",
       "\n",
       "                                       COMPANY NAME  \n",
       "0                                             Bayer  \n",
       "1                            IBM India Pvt. Limited  \n",
       "2                            IBM India Pvt. Limited  \n",
       "3                            Autodesk India Pvt Ltd  \n",
       "4                                 GE Transportation  \n",
       "5            TALENT500 TECH (INDIA) PRIVATE LIMITED  \n",
       "6                                  Dun & Bradstreet  \n",
       "7  intelligent industrial internet systems pvt ltd.  \n",
       "8                                   Siemens Limited  \n",
       "9                         Concentrix Daksh Services  "
      ]
     },
     "execution_count": 16,
     "metadata": {},
     "output_type": "execute_result"
    }
   ],
   "source": [
    "data={'JOB TITLE':job_title,'JOB LOCATION':jobloc,'COMPANY NAME':comp}\n",
    "df=pd.DataFrame(data)\n",
    "df"
   ]
  },
  {
   "cell_type": "code",
   "execution_count": null,
   "id": "fc7da0b3",
   "metadata": {},
   "outputs": [],
   "source": []
  },
  {
   "cell_type": "markdown",
   "id": "a829f744",
   "metadata": {},
   "source": [
    "# ANS3 "
   ]
  },
  {
   "cell_type": "code",
   "execution_count": 2,
   "id": "2805ca41",
   "metadata": {},
   "outputs": [],
   "source": [
    "# connect with the driver\n",
    "\n",
    "driver=webdriver.Chrome(r'C:\\Users\\vinay\\OneDrive\\Desktop\\New folder\\Chromedriver.exe')"
   ]
  },
  {
   "cell_type": "code",
   "execution_count": 3,
   "id": "bae8db3b",
   "metadata": {},
   "outputs": [],
   "source": [
    "driver.get('https://www.naukri.com/')"
   ]
  },
  {
   "cell_type": "code",
   "execution_count": 4,
   "id": "c67d18b4",
   "metadata": {},
   "outputs": [],
   "source": [
    "#finding element for job search bar \n",
    "\n",
    "search_des=driver.find_element_by_xpath('//input[@class=\"sugInp\"]')\n",
    "search_des.send_keys('data scientist')\n"
   ]
  },
  {
   "cell_type": "code",
   "execution_count": 5,
   "id": "a1472dd2",
   "metadata": {},
   "outputs": [],
   "source": [
    "search_but=driver.find_element_by_xpath('//div[@class=\"search-btn\"]/button')\n",
    "search_but.click()"
   ]
  },
  {
   "cell_type": "code",
   "execution_count": 10,
   "id": "d8564de0",
   "metadata": {},
   "outputs": [],
   "source": [
    "search_sal=driver.find_element_by_xpath('//*[@id=\"root\"]/div[3]/div[2]/section[1]/div[2]/div[4]/div[2]/div[2]/label/i')\n",
    "search_sal.click()"
   ]
  },
  {
   "cell_type": "code",
   "execution_count": 12,
   "id": "d6f07540",
   "metadata": {},
   "outputs": [],
   "source": [
    "search_loc=driver.find_element_by_xpath('//*[@id=\"root\"]/div[3]/div[2]/section[1]/div[2]/div[2]/div[2]/div[3]/label/i')\n",
    "search_loc.click()"
   ]
  },
  {
   "cell_type": "code",
   "execution_count": 13,
   "id": "3c22249b",
   "metadata": {},
   "outputs": [
    {
     "data": {
      "text/plain": [
       "['Data Scientist - Insurance',\n",
       " 'Job Opportunity || Data Scientist || HCL Technologies',\n",
       " 'Data Scientist',\n",
       " 'Data Scientist III-2',\n",
       " 'Data Scientist',\n",
       " 'Data Scientist',\n",
       " 'Urgent Hiring || Data Scientist || Delhi',\n",
       " 'Data Scientist',\n",
       " 'Data Scientist Internship',\n",
       " 'Data Scientist',\n",
       " 'Data Scientist',\n",
       " 'Project Manager | Team Leader | Senior Data Scientist',\n",
       " 'Senior Data Scientist',\n",
       " 'Academic Counsellor - Data Scientist',\n",
       " 'Data Scientist',\n",
       " 'Data Scientist',\n",
       " 'Data Scientist',\n",
       " 'Data Scientist',\n",
       " 'Data Scientist',\n",
       " 'Immediate requirement For Data Scientist']"
      ]
     },
     "execution_count": 13,
     "metadata": {},
     "output_type": "execute_result"
    }
   ],
   "source": [
    "job_title=[]\n",
    "job_location=[]\n",
    "company_name=[]\n",
    "experienced_required=[]\n",
    "\n",
    "job_tag=driver.find_elements_by_xpath('//a[@class=\"title fw500 ellipsis\"]')\n",
    "job_tag\n",
    "\n",
    "for i in job_tag:\n",
    "    job=i.text\n",
    "    job_title.append(job)\n",
    "job_title  \n",
    "\n",
    " "
   ]
  },
  {
   "cell_type": "code",
   "execution_count": 22,
   "id": "10a3047f",
   "metadata": {},
   "outputs": [
    {
     "data": {
      "text/plain": [
       "['2-7 Yrs',\n",
       " 'Not disclosed',\n",
       " 'Noida, Gurgaon/Gurugram',\n",
       " '4-7 Yrs',\n",
       " 'Not disclosed',\n",
       " 'Delhi / NCR',\n",
       " 'Not disclosed',\n",
       " '3-8 Yrs',\n",
       " 'Not disclosed',\n",
       " 'Gurgaon/Gurugram',\n",
       " '4-6 Yrs',\n",
       " '5,00,000 - 10,00,000 PA.',\n",
       " 'Noida(Sector-126 Noida)',\n",
       " '4-6 Yrs',\n",
       " '5,00,000 - 10,00,000 PA.',\n",
       " 'Noida(Sector-126 Noida)',\n",
       " '2-7 Yrs',\n",
       " '3,00,000 - 8,00,000 PA.',\n",
       " 'Delhi / NCR',\n",
       " '0-2 Yrs',\n",
       " '5,00,000 - 5,50,000 PA.',\n",
       " 'Kochi/Cochin, Kolkata, Hyderabad/Secunderabad, Pune, Ahmedabad, Chennai, Bangalore/Bengaluru, Delhi / NCR, Mumbai (All Areas)',\n",
       " '0-1 Yrs',\n",
       " 'Not disclosed',\n",
       " 'New Delhi',\n",
       " '2-6 Yrs',\n",
       " 'Not disclosed',\n",
       " 'Noida, Gurgaon/Gurugram',\n",
       " '3-7 Yrs',\n",
       " 'Not disclosed',\n",
       " 'Mumbai, Gurgaon/Gurugram, Bangalore/Bengaluru',\n",
       " 'Not disclosed',\n",
       " '1-5 Yrs',\n",
       " 'Not disclosed',\n",
       " 'Delhi',\n",
       " '1-4 Yrs',\n",
       " 'Not disclosed',\n",
       " 'Gurgaon/Gurugram, Bangalore/Bengaluru',\n",
       " '2-7 Yrs',\n",
       " 'Not disclosed',\n",
       " 'Delhi',\n",
       " '3-7 Yrs',\n",
       " 'Not disclosed',\n",
       " 'Gurgaon, Bengaluru',\n",
       " '1-3 Yrs',\n",
       " 'Not disclosed',\n",
       " 'Bharuch, Jaipur, Bhopal, Mumbai, Jhansi, Nagpur, Ghaziabad, Jaunpur, Kanpur, Delhi, Lucknow, Agra, Gurgaon, Rajkot, Bengaluru',\n",
       " '2-6 Yrs',\n",
       " 'Not disclosed',\n",
       " 'Delhi',\n",
       " '2-6 Yrs',\n",
       " 'Not disclosed',\n",
       " 'Delhi',\n",
       " '2-7 Yrs',\n",
       " '4,00,000 - 9,00,000 PA.',\n",
       " 'Mumbai, Hyderabad/Secunderabad, Pune, Chennai, Tamia, Bangalore/Bengaluru, Delhi / NCR',\n",
       " '2-7 Yrs',\n",
       " 'Not disclosed',\n",
       " 'Noida, Gurgaon/Gurugram',\n",
       " '4-7 Yrs',\n",
       " 'Not disclosed',\n",
       " 'Delhi / NCR',\n",
       " 'Not disclosed',\n",
       " '3-8 Yrs',\n",
       " 'Not disclosed',\n",
       " 'Gurgaon/Gurugram',\n",
       " '4-6 Yrs',\n",
       " '5,00,000 - 10,00,000 PA.',\n",
       " 'Noida(Sector-126 Noida)',\n",
       " '4-6 Yrs',\n",
       " '5,00,000 - 10,00,000 PA.',\n",
       " 'Noida(Sector-126 Noida)',\n",
       " '2-7 Yrs',\n",
       " '3,00,000 - 8,00,000 PA.',\n",
       " 'Delhi / NCR',\n",
       " '0-2 Yrs',\n",
       " '5,00,000 - 5,50,000 PA.',\n",
       " 'Kochi/Cochin, Kolkata, Hyderabad/Secunderabad, Pune, Ahmedabad, Chennai, Bangalore/Bengaluru, Delhi / NCR, Mumbai (All Areas)',\n",
       " '0-1 Yrs',\n",
       " 'Not disclosed',\n",
       " 'New Delhi',\n",
       " '2-6 Yrs',\n",
       " 'Not disclosed',\n",
       " 'Noida, Gurgaon/Gurugram',\n",
       " '3-7 Yrs',\n",
       " 'Not disclosed',\n",
       " 'Mumbai, Gurgaon/Gurugram, Bangalore/Bengaluru',\n",
       " 'Not disclosed',\n",
       " '1-5 Yrs',\n",
       " 'Not disclosed',\n",
       " 'Delhi',\n",
       " '1-4 Yrs',\n",
       " 'Not disclosed',\n",
       " 'Gurgaon/Gurugram, Bangalore/Bengaluru',\n",
       " '2-7 Yrs',\n",
       " 'Not disclosed',\n",
       " 'Delhi',\n",
       " '3-7 Yrs',\n",
       " 'Not disclosed',\n",
       " 'Gurgaon, Bengaluru',\n",
       " '1-3 Yrs',\n",
       " 'Not disclosed',\n",
       " 'Bharuch, Jaipur, Bhopal, Mumbai, Jhansi, Nagpur, Ghaziabad, Jaunpur, Kanpur, Delhi, Lucknow, Agra, Gurgaon, Rajkot, Bengaluru',\n",
       " '2-6 Yrs',\n",
       " 'Not disclosed',\n",
       " 'Delhi',\n",
       " '2-6 Yrs',\n",
       " 'Not disclosed',\n",
       " 'Delhi',\n",
       " '2-7 Yrs',\n",
       " '4,00,000 - 9,00,000 PA.',\n",
       " 'Mumbai, Hyderabad/Secunderabad, Pune, Chennai, Tamia, Bangalore/Bengaluru, Delhi / NCR',\n",
       " '2-7 Yrs',\n",
       " 'Not disclosed',\n",
       " 'Noida, Gurgaon/Gurugram',\n",
       " '4-7 Yrs',\n",
       " 'Not disclosed',\n",
       " 'Delhi / NCR',\n",
       " 'Not disclosed',\n",
       " '3-8 Yrs',\n",
       " 'Not disclosed',\n",
       " 'Gurgaon/Gurugram',\n",
       " '4-6 Yrs',\n",
       " '5,00,000 - 10,00,000 PA.',\n",
       " 'Noida(Sector-126 Noida)',\n",
       " '4-6 Yrs',\n",
       " '5,00,000 - 10,00,000 PA.',\n",
       " 'Noida(Sector-126 Noida)',\n",
       " '2-7 Yrs',\n",
       " '3,00,000 - 8,00,000 PA.',\n",
       " 'Delhi / NCR',\n",
       " '0-2 Yrs',\n",
       " '5,00,000 - 5,50,000 PA.',\n",
       " 'Kochi/Cochin, Kolkata, Hyderabad/Secunderabad, Pune, Ahmedabad, Chennai, Bangalore/Bengaluru, Delhi / NCR, Mumbai (All Areas)',\n",
       " '0-1 Yrs',\n",
       " 'Not disclosed',\n",
       " 'New Delhi',\n",
       " '2-6 Yrs',\n",
       " 'Not disclosed',\n",
       " 'Noida, Gurgaon/Gurugram',\n",
       " '3-7 Yrs',\n",
       " 'Not disclosed',\n",
       " 'Mumbai, Gurgaon/Gurugram, Bangalore/Bengaluru',\n",
       " 'Not disclosed',\n",
       " '1-5 Yrs',\n",
       " 'Not disclosed',\n",
       " 'Delhi',\n",
       " '1-4 Yrs',\n",
       " 'Not disclosed',\n",
       " 'Gurgaon/Gurugram, Bangalore/Bengaluru',\n",
       " '2-7 Yrs',\n",
       " 'Not disclosed',\n",
       " 'Delhi',\n",
       " '3-7 Yrs',\n",
       " 'Not disclosed',\n",
       " 'Gurgaon, Bengaluru',\n",
       " '1-3 Yrs',\n",
       " 'Not disclosed',\n",
       " 'Bharuch, Jaipur, Bhopal, Mumbai, Jhansi, Nagpur, Ghaziabad, Jaunpur, Kanpur, Delhi, Lucknow, Agra, Gurgaon, Rajkot, Bengaluru',\n",
       " '2-6 Yrs',\n",
       " 'Not disclosed',\n",
       " 'Delhi',\n",
       " '2-6 Yrs',\n",
       " 'Not disclosed',\n",
       " 'Delhi',\n",
       " '2-7 Yrs',\n",
       " '4,00,000 - 9,00,000 PA.',\n",
       " 'Mumbai, Hyderabad/Secunderabad, Pune, Chennai, Tamia, Bangalore/Bengaluru, Delhi / NCR',\n",
       " '2-7 Yrs',\n",
       " 'Not disclosed',\n",
       " 'Noida, Gurgaon/Gurugram',\n",
       " '4-7 Yrs',\n",
       " 'Not disclosed',\n",
       " 'Delhi / NCR',\n",
       " 'Not disclosed',\n",
       " '3-8 Yrs',\n",
       " 'Not disclosed',\n",
       " 'Gurgaon/Gurugram',\n",
       " '4-6 Yrs',\n",
       " '5,00,000 - 10,00,000 PA.',\n",
       " 'Noida(Sector-126 Noida)',\n",
       " '4-6 Yrs',\n",
       " '5,00,000 - 10,00,000 PA.',\n",
       " 'Noida(Sector-126 Noida)',\n",
       " '2-7 Yrs',\n",
       " '3,00,000 - 8,00,000 PA.',\n",
       " 'Delhi / NCR',\n",
       " '0-2 Yrs',\n",
       " '5,00,000 - 5,50,000 PA.',\n",
       " 'Kochi/Cochin, Kolkata, Hyderabad/Secunderabad, Pune, Ahmedabad, Chennai, Bangalore/Bengaluru, Delhi / NCR, Mumbai (All Areas)',\n",
       " '0-1 Yrs',\n",
       " 'Not disclosed',\n",
       " 'New Delhi',\n",
       " '2-6 Yrs',\n",
       " 'Not disclosed',\n",
       " 'Noida, Gurgaon/Gurugram',\n",
       " '3-7 Yrs',\n",
       " 'Not disclosed',\n",
       " 'Mumbai, Gurgaon/Gurugram, Bangalore/Bengaluru',\n",
       " 'Not disclosed',\n",
       " '1-5 Yrs',\n",
       " 'Not disclosed',\n",
       " 'Delhi',\n",
       " '1-4 Yrs',\n",
       " 'Not disclosed',\n",
       " 'Gurgaon/Gurugram, Bangalore/Bengaluru',\n",
       " '2-7 Yrs',\n",
       " 'Not disclosed',\n",
       " 'Delhi',\n",
       " '3-7 Yrs',\n",
       " 'Not disclosed',\n",
       " 'Gurgaon, Bengaluru',\n",
       " '1-3 Yrs',\n",
       " 'Not disclosed',\n",
       " 'Bharuch, Jaipur, Bhopal, Mumbai, Jhansi, Nagpur, Ghaziabad, Jaunpur, Kanpur, Delhi, Lucknow, Agra, Gurgaon, Rajkot, Bengaluru',\n",
       " '2-6 Yrs',\n",
       " 'Not disclosed',\n",
       " 'Delhi',\n",
       " '2-6 Yrs',\n",
       " 'Not disclosed',\n",
       " 'Delhi',\n",
       " '2-7 Yrs',\n",
       " '4,00,000 - 9,00,000 PA.',\n",
       " 'Mumbai, Hyderabad/Secunderabad, Pune, Chennai, Tamia, Bangalore/Bengaluru, Delhi / NCR',\n",
       " '',\n",
       " '',\n",
       " '',\n",
       " 'Noida, Gurgaon/Gurugram']"
      ]
     },
     "execution_count": 22,
     "metadata": {},
     "output_type": "execute_result"
    }
   ],
   "source": [
    "loc_tag=driver.find_elements_by_xpath('//*[@id=\"root\"]/div[3]/div[2]/section[2]/div[2]/article[1]/div[1]/div[1]/ul/li[3]')\n",
    "loc_tag\n",
    "\n",
    "for k in loc_tag:\n",
    "    loc=k.text\n",
    "    job_location.append(loc)\n",
    "job_location"
   ]
  },
  {
   "cell_type": "code",
   "execution_count": 14,
   "id": "92c8cc18",
   "metadata": {},
   "outputs": [
    {
     "data": {
      "text/plain": [
       "['Delhi / NCR']"
      ]
     },
     "execution_count": 14,
     "metadata": {},
     "output_type": "execute_result"
    }
   ],
   "source": [
    "comp_tag=driver.find_elements_by_xpath('//*[@id=\"root\"]/div[3]/div[2]/section[2]/div[2]/article[1]/div[1]/div[1]/div/a[1]')\n",
    "\n",
    "\n",
    "for k in loc_tag:\n",
    "    comp=k.text\n",
    "    company_name.append(comp)\n",
    "company_name"
   ]
  },
  {
   "cell_type": "code",
   "execution_count": 15,
   "id": "dadd41a6",
   "metadata": {},
   "outputs": [
    {
     "data": {
      "text/plain": [
       "['4-7 Yrs']"
      ]
     },
     "execution_count": 15,
     "metadata": {},
     "output_type": "execute_result"
    }
   ],
   "source": [
    "experience_tag=driver.find_elements_by_xpath('//*[@id=\"root\"]/div[3]/div[2]/section[2]/div[2]/article[1]/div[1]/div[1]/ul/li[1]/span')\n",
    "\n",
    "\n",
    "for k in experience_tag:\n",
    "    experience=k.text\n",
    "    experienced_required.append(experience)\n",
    "experienced_required    \n"
   ]
  },
  {
   "cell_type": "code",
   "execution_count": null,
   "id": "cf04eb79",
   "metadata": {},
   "outputs": [],
   "source": []
  },
  {
   "cell_type": "code",
   "execution_count": null,
   "id": "cf9b09ed",
   "metadata": {},
   "outputs": [],
   "source": []
  },
  {
   "cell_type": "code",
   "execution_count": null,
   "id": "048e208d",
   "metadata": {},
   "outputs": [],
   "source": []
  },
  {
   "cell_type": "markdown",
   "id": "e1a2b7cb",
   "metadata": {},
   "source": [
    "# ANS4 "
   ]
  },
  {
   "cell_type": "code",
   "execution_count": 107,
   "id": "1b5c0e93",
   "metadata": {},
   "outputs": [],
   "source": [
    "# connect with the driver\n",
    "\n",
    "driver=webdriver.Chrome(r'C:\\Users\\vinay\\OneDrive\\Desktop\\New folder\\Chromedriver.exe')"
   ]
  },
  {
   "cell_type": "code",
   "execution_count": 109,
   "id": "3647e4b4",
   "metadata": {},
   "outputs": [],
   "source": [
    "# get the url\n",
    "driver.get('https://flipkart.com/')"
   ]
  },
  {
   "cell_type": "code",
   "execution_count": 110,
   "id": "19f66625",
   "metadata": {},
   "outputs": [],
   "source": [
    "#finding element for job search bar \n",
    "search_glasses=driver.find_element_by_xpath('//input[@class=\"_3704LK\"]')\n",
    "search_glasses.send_keys('sun glasses')"
   ]
  },
  {
   "cell_type": "code",
   "execution_count": 111,
   "id": "d88e636e",
   "metadata": {},
   "outputs": [],
   "source": [
    "search_but=driver.find_element_by_xpath('//button[@class=\"L0Z3Pu\"]')\n",
    "search_but.click()"
   ]
  },
  {
   "cell_type": "code",
   "execution_count": 112,
   "id": "d5591e99",
   "metadata": {},
   "outputs": [],
   "source": [
    "brand_name=[]\n",
    "product_name=[]\n",
    "price_range=[] "
   ]
  },
  {
   "cell_type": "code",
   "execution_count": 114,
   "id": "399f83c8",
   "metadata": {},
   "outputs": [
    {
     "data": {
      "text/plain": [
       "['Fravy',\n",
       " 'ROZZETTA CRAFT',\n",
       " 'Fastrack',\n",
       " 'PIRASO',\n",
       " 'PIRASO',\n",
       " 'SHAAH COLLECTIONS',\n",
       " 'PHENOMENAL',\n",
       " 'elegante',\n",
       " 'New Specs',\n",
       " 'kingsunglasses',\n",
       " 'SUNBEE',\n",
       " 'Fravy',\n",
       " 'GANSTA',\n",
       " 'ROZZETTA CRAFT',\n",
       " 'SHAAH COLLECTIONS',\n",
       " 'VINCENT CHASE',\n",
       " 'kingsunglasses',\n",
       " 'New Specs',\n",
       " 'HIPPON',\n",
       " 'ROZZETTA CRAFT',\n",
       " 'Elligator',\n",
       " 'ROZZETTA CRAFT',\n",
       " 'Silver Kartz',\n",
       " 'ROZZETTA CRAFT',\n",
       " 'hipe',\n",
       " 'Elligator',\n",
       " 'Rich Club',\n",
       " 'VINCENT CHASE',\n",
       " 'PIRASO',\n",
       " 'kingsunglasses',\n",
       " 'hipe',\n",
       " 'VINCENT CHASE',\n",
       " 'kingsunglasses',\n",
       " 'PIRASO',\n",
       " 'Fastrack',\n",
       " 'ROZZETTA CRAFT',\n",
       " 'SUNBEE',\n",
       " 'Fastrack',\n",
       " 'Lee Topper',\n",
       " 'ROZZETTA CRAFT']"
      ]
     },
     "execution_count": 114,
     "metadata": {},
     "output_type": "execute_result"
    }
   ],
   "source": [
    "brand_tags=driver.find_elements_by_xpath('//div[@class=\"_2WkVRV\"]')\n",
    "brand_tags\n",
    "for i in brand_tags:\n",
    "    brand_name.append(i.text)\n",
    "brand_name    "
   ]
  },
  {
   "cell_type": "code",
   "execution_count": 119,
   "id": "6712cdf5",
   "metadata": {},
   "outputs": [
    {
     "data": {
      "text/plain": [
       "['UV Protection Retro Square Sunglasses (Free Size)',\n",
       " 'UV Protection, Gradient Retro Square Sunglasses (Free S...',\n",
       " 'UV Protection Rectangular Sunglasses (Free Size)',\n",
       " 'UV Protection Aviator Sunglasses (54)',\n",
       " 'UV Protection Aviator Sunglasses (54)',\n",
       " 'UV Protection, Polarized, Mirrored Rectangular Sunglass...',\n",
       " 'UV Protection Retro Square Sunglasses (Free Size)',\n",
       " 'UV Protection Oval Sunglasses (Free Size)',\n",
       " 'UV Protection Rectangular Sunglasses (Free Size)',\n",
       " 'UV Protection Round Sunglasses (54)',\n",
       " 'UV Protection, Polarized, Mirrored Round Sunglasses (Fr...',\n",
       " 'UV Protection, Gradient, Night Vision Retro Square Sung...',\n",
       " 'UV Protection Aviator Sunglasses (57)',\n",
       " 'UV Protection Retro Square Sunglasses (Free Size)',\n",
       " 'UV Protection Round Sunglasses (Free Size)',\n",
       " 'by Lenskart Polarized, UV Protection Round Sunglasses (...',\n",
       " 'Mirrored, UV Protection Wayfarer Sunglasses (Free Size)',\n",
       " 'Mirrored, UV Protection, Riding Glasses, Others Round S...',\n",
       " 'UV Protection Wayfarer Sunglasses (55)',\n",
       " 'UV Protection, Gradient Retro Square Sunglasses (Free S...',\n",
       " 'UV Protection Round Sunglasses (55)',\n",
       " 'UV Protection, Gradient Rectangular Sunglasses (Free Si...',\n",
       " 'UV Protection Wayfarer Sunglasses (Free Size)',\n",
       " 'UV Protection, Gradient Rectangular Sunglasses (Free Si...',\n",
       " 'Mirrored, UV Protection, Gradient Round Sunglasses (55)',\n",
       " 'UV Protection Aviator Sunglasses (55)',\n",
       " 'Polarized Round Sunglasses (48)',\n",
       " 'Polarized, UV Protection Wayfarer Sunglasses (57)',\n",
       " 'UV Protection Aviator Sunglasses (54)',\n",
       " 'UV Protection, Others Round, Aviator Sunglasses (54)',\n",
       " 'Mirrored, Gradient, UV Protection Aviator Sunglasses (5...',\n",
       " 'by Lenskart Polarized, UV Protection Wayfarer Sunglasse...',\n",
       " 'Mirrored, UV Protection Wayfarer Sunglasses (Free Size)',\n",
       " 'UV Protection, Polarized Aviator Sunglasses (32)',\n",
       " 'UV Protection Wayfarer Sunglasses (Free Size)',\n",
       " 'UV Protection, Gradient Retro Square Sunglasses (Free S...',\n",
       " 'UV Protection, Polarized, Mirrored Wayfarer Sunglasses ...',\n",
       " 'Gradient, UV Protection Wayfarer Sunglasses (Free Size)',\n",
       " 'Riding Glasses, Night Vision Wrap-around Sunglasses (Fr...',\n",
       " 'UV Protection, Gradient Retro Square Sunglasses (46)']"
      ]
     },
     "execution_count": 119,
     "metadata": {},
     "output_type": "execute_result"
    }
   ],
   "source": [
    "product_tags=driver.find_elements_by_xpath('//a[@class=\"IRpwTa\"]')\n",
    "product_tags\n",
    "for i in product_tags:\n",
    "    product_name.append(i.text)\n",
    "    \n",
    "product_name    "
   ]
  },
  {
   "cell_type": "code",
   "execution_count": 120,
   "id": "c259d800",
   "metadata": {},
   "outputs": [
    {
     "data": {
      "text/plain": [
       "['₹299',\n",
       " '₹325',\n",
       " '₹513',\n",
       " '₹200',\n",
       " '₹200',\n",
       " '₹177',\n",
       " '₹329',\n",
       " '₹359',\n",
       " '₹259',\n",
       " '₹189',\n",
       " '₹276',\n",
       " '₹339',\n",
       " '₹236',\n",
       " '₹499',\n",
       " '₹296',\n",
       " '₹1,415',\n",
       " '₹259',\n",
       " '₹269',\n",
       " '₹231',\n",
       " '₹325',\n",
       " '₹239',\n",
       " '₹349',\n",
       " '₹246',\n",
       " '₹499',\n",
       " '₹189',\n",
       " '₹294',\n",
       " '₹179',\n",
       " '₹999',\n",
       " '₹200',\n",
       " '₹189',\n",
       " '₹178',\n",
       " '₹999',\n",
       " '₹259',\n",
       " '₹175',\n",
       " '₹758',\n",
       " '₹318',\n",
       " '₹215',\n",
       " '₹509',\n",
       " '₹276',\n",
       " '₹325']"
      ]
     },
     "execution_count": 120,
     "metadata": {},
     "output_type": "execute_result"
    }
   ],
   "source": [
    "price_tags=driver.find_elements_by_xpath('//div[@class=\"_30jeq3\"]')\n",
    "price_tags\n",
    "for i in price_tags:\n",
    "    price_range.append(i.text)\n",
    "    \n",
    "price_range"
   ]
  },
  {
   "cell_type": "code",
   "execution_count": 121,
   "id": "86b08380",
   "metadata": {},
   "outputs": [
    {
     "data": {
      "text/plain": [
       "['agera',\n",
       " 'povty',\n",
       " 'NuVew',\n",
       " 'Fravy',\n",
       " 'PIRASO',\n",
       " 'hipe',\n",
       " 'PHENOMENAL',\n",
       " 'elegante',\n",
       " 'PIRASO',\n",
       " 'New Specs',\n",
       " 'ROYAL SON',\n",
       " 'Fravy',\n",
       " 'Fastrack',\n",
       " 'kingsunglasses',\n",
       " 'Singco India',\n",
       " 'ROYAL SON',\n",
       " 'ROZZETTA CRAFT',\n",
       " 'GANSTA',\n",
       " 'Elligator',\n",
       " 'ROZZETTA CRAFT',\n",
       " 'hipe',\n",
       " 'SHAAH COLLECTIONS',\n",
       " 'PHENOMENAL',\n",
       " 'ROZZETTA CRAFT',\n",
       " 'GANSTA',\n",
       " 'Silver Kartz',\n",
       " 'kingsunglasses',\n",
       " 'VINCENT CHASE',\n",
       " 'SUNBEE',\n",
       " 'PHENOMENAL',\n",
       " 'GANSTA',\n",
       " 'VINCENT CHASE',\n",
       " 'Singco',\n",
       " 'PIRASO',\n",
       " 'kingsunglasses',\n",
       " 'VINCENT CHASE',\n",
       " 'ROZZETTA CRAFT',\n",
       " 'Fastrack',\n",
       " 'SUNBEE',\n",
       " 'ROZZETTA CRAFT']"
      ]
     },
     "execution_count": 121,
     "metadata": {},
     "output_type": "execute_result"
    }
   ],
   "source": [
    "brand_name2=[]\n",
    "\n",
    "brand_tags2=driver.find_elements_by_xpath('//div[@class=\"_2WkVRV\"]')\n",
    "brand_tags2\n",
    "for i in brand_tags2:\n",
    "    brand_name2.append(i.text)\n",
    "brand_name2  "
   ]
  },
  {
   "cell_type": "code",
   "execution_count": 122,
   "id": "12dd5c6c",
   "metadata": {},
   "outputs": [
    {
     "data": {
      "text/plain": [
       "['Gradient Aviator Sunglasses (55)',\n",
       " 'UV Protection Retro Square Sunglasses (Free Size)',\n",
       " 'UV Protection, Night Vision, Riding Glasses Sports Sung...',\n",
       " 'UV Protection Retro Square Sunglasses (Free Size)',\n",
       " 'UV Protection Aviator Sunglasses (54)',\n",
       " 'UV Protection, Gradient, Mirrored, Riding Glasses Aviat...',\n",
       " 'UV Protection, Mirrored Retro Square Sunglasses (53)',\n",
       " 'UV Protection Oval Sunglasses (Free Size)',\n",
       " 'UV Protection Aviator Sunglasses (58)',\n",
       " 'UV Protection Rectangular Sunglasses (Free Size)',\n",
       " 'Mirrored Aviator Sunglasses (55)',\n",
       " 'UV Protection, Gradient, Night Vision Retro Square Sung...',\n",
       " 'UV Protection Wayfarer Sunglasses (55)',\n",
       " 'UV Protection, Mirrored Round Sunglasses (Free Size)',\n",
       " 'UV Protection Round Sunglasses (Free Size)',\n",
       " 'UV Protection Retro Square Sunglasses (60)',\n",
       " 'UV Protection, Gradient Retro Square Sunglasses (Free S...',\n",
       " 'UV Protection, Night Vision, Riding Glasses Aviator Sun...',\n",
       " 'Mirrored Round Sunglasses (53)',\n",
       " 'UV Protection, Gradient Rectangular Sunglasses (Free Si...',\n",
       " 'UV Protection Sports Sunglasses (Free Size)',\n",
       " 'UV Protection, Polarized, Mirrored Rectangular Sunglass...',\n",
       " 'UV Protection, Mirrored Retro Square Sunglasses (Free S...',\n",
       " 'UV Protection, Gradient Retro Square Sunglasses (Free S...',\n",
       " 'UV Protection, Riding Glasses Wayfarer Sunglasses (53)',\n",
       " 'UV Protection Oval Sunglasses (56)',\n",
       " 'UV Protection, Night Vision Wayfarer Sunglasses (Free S...',\n",
       " 'by Lenskart Polarized, UV Protection Round Sunglasses (...',\n",
       " 'UV Protection, Polarized, Mirrored Retro Square Sunglas...',\n",
       " 'UV Protection, Mirrored Retro Square Sunglasses (53)',\n",
       " 'UV Protection Rectangular Sunglasses (60)',\n",
       " 'Polarized, UV Protection Wayfarer Sunglasses (57)',\n",
       " 'UV Protection Aviator Sunglasses (Free Size)',\n",
       " 'UV Protection Butterfly Sunglasses (65)',\n",
       " 'UV Protection, Mirrored Round Sunglasses (54)',\n",
       " 'by Lenskart Polarized, UV Protection Wayfarer Sunglasse...',\n",
       " 'UV Protection Rectangular Sunglasses (Free Size)',\n",
       " 'UV Protection Wayfarer Sunglasses (Free Size)',\n",
       " 'UV Protection, Polarized Wayfarer Sunglasses (Free Size...',\n",
       " 'UV Protection, Gradient Retro Square Sunglasses (Free S...']"
      ]
     },
     "execution_count": 122,
     "metadata": {},
     "output_type": "execute_result"
    }
   ],
   "source": [
    "product_name2=[]\n",
    "\n",
    "product_tags2=driver.find_elements_by_xpath('//a[@class=\"IRpwTa\"]')\n",
    "product_tags2\n",
    "for i in product_tags2:\n",
    "    product_name2.append(i.text)\n",
    "product_name2  "
   ]
  },
  {
   "cell_type": "code",
   "execution_count": 123,
   "id": "e0b3526f",
   "metadata": {},
   "outputs": [
    {
     "data": {
      "text/plain": [
       "['₹196',\n",
       " '₹339',\n",
       " '₹270',\n",
       " '₹299',\n",
       " '₹200',\n",
       " '₹209',\n",
       " '₹329',\n",
       " '₹359',\n",
       " '₹319',\n",
       " '₹199',\n",
       " '₹359',\n",
       " '₹339',\n",
       " '₹694',\n",
       " '₹249',\n",
       " '₹217',\n",
       " '₹699',\n",
       " '₹325',\n",
       " '₹295',\n",
       " '₹263',\n",
       " '₹499',\n",
       " '₹287',\n",
       " '₹189',\n",
       " '₹329',\n",
       " '₹325',\n",
       " '₹209',\n",
       " '₹284',\n",
       " '₹299',\n",
       " '₹1,415',\n",
       " '₹258',\n",
       " '₹329',\n",
       " '₹186',\n",
       " '₹999',\n",
       " '₹526',\n",
       " '₹359',\n",
       " '₹219',\n",
       " '₹999',\n",
       " '₹379',\n",
       " '₹649',\n",
       " '₹276',\n",
       " '₹318']"
      ]
     },
     "execution_count": 123,
     "metadata": {},
     "output_type": "execute_result"
    }
   ],
   "source": [
    "price_range2=[]\n",
    "\n",
    "price_tags2=driver.find_elements_by_xpath('//div[@class=\"_30jeq3\"]')\n",
    "price_tags2\n",
    "for i in price_tags2:\n",
    "    price_range2.append(i.text)\n",
    "price_range2  "
   ]
  },
  {
   "cell_type": "code",
   "execution_count": 127,
   "id": "e74f9f0c",
   "metadata": {},
   "outputs": [
    {
     "data": {
      "text/plain": [
       "['₹276',\n",
       " '₹255',\n",
       " '₹379',\n",
       " '₹299',\n",
       " '₹299',\n",
       " '₹340',\n",
       " '₹249',\n",
       " '₹699',\n",
       " '₹179',\n",
       " '₹449',\n",
       " '₹166',\n",
       " '₹325',\n",
       " '₹227',\n",
       " '₹200',\n",
       " '₹399',\n",
       " '₹359',\n",
       " '₹259',\n",
       " '₹319',\n",
       " '₹249',\n",
       " '₹289']"
      ]
     },
     "execution_count": 127,
     "metadata": {},
     "output_type": "execute_result"
    }
   ],
   "source": [
    "price_range3=[]\n",
    "\n",
    "price_tags3=driver.find_elements_by_xpath('//div[@class=\"_30jeq3\"]')\n",
    "price_tags3\n",
    "for i in price_tags3:\n",
    "    price_range3.append(i.text)\n",
    "price_range3[0:20]\n",
    "final_range=price_range3[0:20]\n",
    "final_range"
   ]
  },
  {
   "cell_type": "code",
   "execution_count": 128,
   "id": "96845a33",
   "metadata": {},
   "outputs": [
    {
     "data": {
      "text/plain": [
       "['UV Protection, Polarized Wayfarer Sunglasses (Free Size...',\n",
       " 'UV Protection Aviator Sunglasses (88)',\n",
       " 'UV Protection Rectangular Sunglasses (Free Size)',\n",
       " 'UV Protection Retro Square Sunglasses (Free Size)',\n",
       " 'UV Protection Wayfarer Sunglasses (53)',\n",
       " 'Mirrored Round Sunglasses (Free Size)',\n",
       " 'Polarized, UV Protection, Riding Glasses Wayfarer Sungl...',\n",
       " 'Polarized Round Sunglasses (48)',\n",
       " 'UV Protection, Gradient Round Sunglasses (Free Size)',\n",
       " 'UV Protection Aviator Sunglasses (Free Size)',\n",
       " 'UV Protection, Gradient Retro Square Sunglasses (Free S...',\n",
       " 'UV Protection, Gradient, Riding Glasses Wayfarer Sungla...',\n",
       " 'UV Protection Wayfarer Sunglasses (32)',\n",
       " 'UV Protection Round Sunglasses (Free Size)',\n",
       " 'UV Protection Oval Sunglasses (Free Size)',\n",
       " 'UV Protection Round Sunglasses (Free Size)',\n",
       " 'UV Protection Aviator Sunglasses (58)',\n",
       " 'UV Protection, Mirrored Aviator Sunglasses (Free Size)',\n",
       " 'UV Protection, Others Retro Square Sunglasses (Free Siz...',\n",
       " 'UV Protection Round Sunglasses (54)']"
      ]
     },
     "execution_count": 128,
     "metadata": {},
     "output_type": "execute_result"
    }
   ],
   "source": [
    "product_name3=[]\n",
    "\n",
    "product_tags3=driver.find_elements_by_xpath('//a[@class=\"IRpwTa\"]')\n",
    "product_tags3\n",
    "for i in product_tags3:\n",
    "    product_name3.append(i.text)\n",
    "product_name3 \n",
    "final_product=product_name3[0:20]\n",
    "final_product"
   ]
  },
  {
   "cell_type": "code",
   "execution_count": 129,
   "id": "7d1b81a9",
   "metadata": {},
   "outputs": [
    {
     "data": {
      "text/plain": [
       "['SUNBEE',\n",
       " 'Silver Kartz',\n",
       " 'ROZZETTA CRAFT',\n",
       " 'Fravy',\n",
       " 'Elligator',\n",
       " 'elegante',\n",
       " 'DEIXELS',\n",
       " 'ROYAL SON',\n",
       " 'Rich Club',\n",
       " 'ROZZETTA CRAFT',\n",
       " 'MAXX',\n",
       " 'ROZZETTA CRAFT',\n",
       " 'GANSTA',\n",
       " 'PIRASO',\n",
       " 'elegante',\n",
       " 'elegante',\n",
       " 'Lee Topper',\n",
       " 'PIRASO',\n",
       " 'kingsunglasses',\n",
       " 'Fravy']"
      ]
     },
     "execution_count": 129,
     "metadata": {},
     "output_type": "execute_result"
    }
   ],
   "source": [
    "brand_name3=[]\n",
    "\n",
    "brand_tags3=driver.find_elements_by_xpath('//div[@class=\"_2WkVRV\"]')\n",
    "brand_tags3\n",
    "for i in brand_tags3:\n",
    "    brand_name3.append(i.text)\n",
    "brand_name3 \n",
    "final_brand=brand_name3[0:20]\n",
    "final_brand"
   ]
  },
  {
   "cell_type": "code",
   "execution_count": 138,
   "id": "9d850469",
   "metadata": {},
   "outputs": [
    {
     "name": "stdout",
     "output_type": "stream",
     "text": [
      "['Fravy', 'ROZZETTA CRAFT', 'Fastrack', 'PIRASO', 'PIRASO', 'SHAAH COLLECTIONS', 'PHENOMENAL', 'elegante', 'New Specs', 'kingsunglasses', 'SUNBEE', 'Fravy', 'GANSTA', 'ROZZETTA CRAFT', 'SHAAH COLLECTIONS', 'VINCENT CHASE', 'kingsunglasses', 'New Specs', 'HIPPON', 'ROZZETTA CRAFT', 'Elligator', 'ROZZETTA CRAFT', 'Silver Kartz', 'ROZZETTA CRAFT', 'hipe', 'Elligator', 'Rich Club', 'VINCENT CHASE', 'PIRASO', 'kingsunglasses', 'hipe', 'VINCENT CHASE', 'kingsunglasses', 'PIRASO', 'Fastrack', 'ROZZETTA CRAFT', 'SUNBEE', 'Fastrack', 'Lee Topper', 'ROZZETTA CRAFT', 'agera', 'povty', 'NuVew', 'Fravy', 'PIRASO', 'hipe', 'PHENOMENAL', 'elegante', 'PIRASO', 'New Specs', 'ROYAL SON', 'Fravy', 'Fastrack', 'kingsunglasses', 'Singco India', 'ROYAL SON', 'ROZZETTA CRAFT', 'GANSTA', 'Elligator', 'ROZZETTA CRAFT', 'hipe', 'SHAAH COLLECTIONS', 'PHENOMENAL', 'ROZZETTA CRAFT', 'GANSTA', 'Silver Kartz', 'kingsunglasses', 'VINCENT CHASE', 'SUNBEE', 'PHENOMENAL', 'GANSTA', 'VINCENT CHASE', 'Singco', 'PIRASO', 'kingsunglasses', 'VINCENT CHASE', 'ROZZETTA CRAFT', 'Fastrack', 'SUNBEE', 'ROZZETTA CRAFT', 'SUNBEE', 'Silver Kartz', 'ROZZETTA CRAFT', 'Fravy', 'Elligator', 'elegante', 'DEIXELS', 'ROYAL SON', 'Rich Club', 'ROZZETTA CRAFT', 'MAXX', 'ROZZETTA CRAFT', 'GANSTA', 'PIRASO', 'elegante', 'elegante', 'Lee Topper', 'PIRASO', 'kingsunglasses', 'Fravy']\n",
      "['UV Protection Retro Square Sunglasses (Free Size)', 'UV Protection, Gradient Retro Square Sunglasses (Free S...', 'UV Protection Rectangular Sunglasses (Free Size)', 'UV Protection Aviator Sunglasses (54)', 'UV Protection Aviator Sunglasses (54)', 'UV Protection, Polarized, Mirrored Rectangular Sunglass...', 'UV Protection Retro Square Sunglasses (Free Size)', 'UV Protection Oval Sunglasses (Free Size)', 'UV Protection Rectangular Sunglasses (Free Size)', 'UV Protection Round Sunglasses (54)', 'UV Protection, Polarized, Mirrored Round Sunglasses (Fr...', 'UV Protection, Gradient, Night Vision Retro Square Sung...', 'UV Protection Aviator Sunglasses (57)', 'UV Protection Retro Square Sunglasses (Free Size)', 'UV Protection Round Sunglasses (Free Size)', 'by Lenskart Polarized, UV Protection Round Sunglasses (...', 'Mirrored, UV Protection Wayfarer Sunglasses (Free Size)', 'Mirrored, UV Protection, Riding Glasses, Others Round S...', 'UV Protection Wayfarer Sunglasses (55)', 'UV Protection, Gradient Retro Square Sunglasses (Free S...', 'UV Protection Round Sunglasses (55)', 'UV Protection, Gradient Rectangular Sunglasses (Free Si...', 'UV Protection Wayfarer Sunglasses (Free Size)', 'UV Protection, Gradient Rectangular Sunglasses (Free Si...', 'Mirrored, UV Protection, Gradient Round Sunglasses (55)', 'UV Protection Aviator Sunglasses (55)', 'Polarized Round Sunglasses (48)', 'Polarized, UV Protection Wayfarer Sunglasses (57)', 'UV Protection Aviator Sunglasses (54)', 'UV Protection, Others Round, Aviator Sunglasses (54)', 'Mirrored, Gradient, UV Protection Aviator Sunglasses (5...', 'by Lenskart Polarized, UV Protection Wayfarer Sunglasse...', 'Mirrored, UV Protection Wayfarer Sunglasses (Free Size)', 'UV Protection, Polarized Aviator Sunglasses (32)', 'UV Protection Wayfarer Sunglasses (Free Size)', 'UV Protection, Gradient Retro Square Sunglasses (Free S...', 'UV Protection, Polarized, Mirrored Wayfarer Sunglasses ...', 'Gradient, UV Protection Wayfarer Sunglasses (Free Size)', 'Riding Glasses, Night Vision Wrap-around Sunglasses (Fr...', 'UV Protection, Gradient Retro Square Sunglasses (46)', 'Gradient Aviator Sunglasses (55)', 'UV Protection Retro Square Sunglasses (Free Size)', 'UV Protection, Night Vision, Riding Glasses Sports Sung...', 'UV Protection Retro Square Sunglasses (Free Size)', 'UV Protection Aviator Sunglasses (54)', 'UV Protection, Gradient, Mirrored, Riding Glasses Aviat...', 'UV Protection, Mirrored Retro Square Sunglasses (53)', 'UV Protection Oval Sunglasses (Free Size)', 'UV Protection Aviator Sunglasses (58)', 'UV Protection Rectangular Sunglasses (Free Size)', 'Mirrored Aviator Sunglasses (55)', 'UV Protection, Gradient, Night Vision Retro Square Sung...', 'UV Protection Wayfarer Sunglasses (55)', 'UV Protection, Mirrored Round Sunglasses (Free Size)', 'UV Protection Round Sunglasses (Free Size)', 'UV Protection Retro Square Sunglasses (60)', 'UV Protection, Gradient Retro Square Sunglasses (Free S...', 'UV Protection, Night Vision, Riding Glasses Aviator Sun...', 'Mirrored Round Sunglasses (53)', 'UV Protection, Gradient Rectangular Sunglasses (Free Si...', 'UV Protection Sports Sunglasses (Free Size)', 'UV Protection, Polarized, Mirrored Rectangular Sunglass...', 'UV Protection, Mirrored Retro Square Sunglasses (Free S...', 'UV Protection, Gradient Retro Square Sunglasses (Free S...', 'UV Protection, Riding Glasses Wayfarer Sunglasses (53)', 'UV Protection Oval Sunglasses (56)', 'UV Protection, Night Vision Wayfarer Sunglasses (Free S...', 'by Lenskart Polarized, UV Protection Round Sunglasses (...', 'UV Protection, Polarized, Mirrored Retro Square Sunglas...', 'UV Protection, Mirrored Retro Square Sunglasses (53)', 'UV Protection Rectangular Sunglasses (60)', 'Polarized, UV Protection Wayfarer Sunglasses (57)', 'UV Protection Aviator Sunglasses (Free Size)', 'UV Protection Butterfly Sunglasses (65)', 'UV Protection, Mirrored Round Sunglasses (54)', 'by Lenskart Polarized, UV Protection Wayfarer Sunglasse...', 'UV Protection Rectangular Sunglasses (Free Size)', 'UV Protection Wayfarer Sunglasses (Free Size)', 'UV Protection, Polarized Wayfarer Sunglasses (Free Size...', 'UV Protection, Gradient Retro Square Sunglasses (Free S...', 'UV Protection, Polarized Wayfarer Sunglasses (Free Size...', 'UV Protection Aviator Sunglasses (88)', 'UV Protection Rectangular Sunglasses (Free Size)', 'UV Protection Retro Square Sunglasses (Free Size)', 'UV Protection Wayfarer Sunglasses (53)', 'Mirrored Round Sunglasses (Free Size)', 'Polarized, UV Protection, Riding Glasses Wayfarer Sungl...', 'Polarized Round Sunglasses (48)', 'UV Protection, Gradient Round Sunglasses (Free Size)', 'UV Protection Aviator Sunglasses (Free Size)', 'UV Protection, Gradient Retro Square Sunglasses (Free S...', 'UV Protection, Gradient, Riding Glasses Wayfarer Sungla...', 'UV Protection Wayfarer Sunglasses (32)', 'UV Protection Round Sunglasses (Free Size)', 'UV Protection Oval Sunglasses (Free Size)', 'UV Protection Round Sunglasses (Free Size)', 'UV Protection Aviator Sunglasses (58)', 'UV Protection, Mirrored Aviator Sunglasses (Free Size)', 'UV Protection, Others Retro Square Sunglasses (Free Siz...', 'UV Protection Round Sunglasses (54)']\n",
      "['₹299', '₹325', '₹513', '₹200', '₹200', '₹177', '₹329', '₹359', '₹259', '₹189', '₹276', '₹339', '₹236', '₹499', '₹296', '₹1,415', '₹259', '₹269', '₹231', '₹325', '₹239', '₹349', '₹246', '₹499', '₹189', '₹294', '₹179', '₹999', '₹200', '₹189', '₹178', '₹999', '₹259', '₹175', '₹758', '₹318', '₹215', '₹509', '₹276', '₹325', '₹196', '₹339', '₹270', '₹299', '₹200', '₹209', '₹329', '₹359', '₹319', '₹199', '₹359', '₹339', '₹694', '₹249', '₹217', '₹699', '₹325', '₹295', '₹263', '₹499', '₹287', '₹189', '₹329', '₹325', '₹209', '₹284', '₹299', '₹1,415', '₹258', '₹329', '₹186', '₹999', '₹526', '₹359', '₹219', '₹999', '₹379', '₹649', '₹276', '₹318', '₹276', '₹255', '₹379', '₹299', '₹299', '₹340', '₹249', '₹699', '₹179', '₹449', '₹166', '₹325', '₹227', '₹200', '₹399', '₹359', '₹259', '₹319', '₹249', '₹289']\n"
     ]
    }
   ],
   "source": [
    "brand_namelist=brand_name+brand_name2+final_brand\n",
    "product_namelist=product_name+product_name2+final_product\n",
    "price_rangelist=price_range+price_range2+final_range\n",
    "print(brand_namelist)\n",
    "print(product_namelist)\n",
    "print(price_rangelist)"
   ]
  },
  {
   "cell_type": "code",
   "execution_count": 139,
   "id": "33460666",
   "metadata": {},
   "outputs": [
    {
     "data": {
      "text/html": [
       "<div>\n",
       "<style scoped>\n",
       "    .dataframe tbody tr th:only-of-type {\n",
       "        vertical-align: middle;\n",
       "    }\n",
       "\n",
       "    .dataframe tbody tr th {\n",
       "        vertical-align: top;\n",
       "    }\n",
       "\n",
       "    .dataframe thead th {\n",
       "        text-align: right;\n",
       "    }\n",
       "</style>\n",
       "<table border=\"1\" class=\"dataframe\">\n",
       "  <thead>\n",
       "    <tr style=\"text-align: right;\">\n",
       "      <th></th>\n",
       "      <th>BRAND</th>\n",
       "      <th>PRODUCT DISCRIPTION</th>\n",
       "      <th>PRICE</th>\n",
       "    </tr>\n",
       "  </thead>\n",
       "  <tbody>\n",
       "    <tr>\n",
       "      <th>0</th>\n",
       "      <td>Fravy</td>\n",
       "      <td>UV Protection Retro Square Sunglasses (Free Size)</td>\n",
       "      <td>₹299</td>\n",
       "    </tr>\n",
       "    <tr>\n",
       "      <th>1</th>\n",
       "      <td>ROZZETTA CRAFT</td>\n",
       "      <td>UV Protection, Gradient Retro Square Sunglasse...</td>\n",
       "      <td>₹325</td>\n",
       "    </tr>\n",
       "    <tr>\n",
       "      <th>2</th>\n",
       "      <td>Fastrack</td>\n",
       "      <td>UV Protection Rectangular Sunglasses (Free Size)</td>\n",
       "      <td>₹513</td>\n",
       "    </tr>\n",
       "    <tr>\n",
       "      <th>3</th>\n",
       "      <td>PIRASO</td>\n",
       "      <td>UV Protection Aviator Sunglasses (54)</td>\n",
       "      <td>₹200</td>\n",
       "    </tr>\n",
       "    <tr>\n",
       "      <th>4</th>\n",
       "      <td>PIRASO</td>\n",
       "      <td>UV Protection Aviator Sunglasses (54)</td>\n",
       "      <td>₹200</td>\n",
       "    </tr>\n",
       "    <tr>\n",
       "      <th>...</th>\n",
       "      <td>...</td>\n",
       "      <td>...</td>\n",
       "      <td>...</td>\n",
       "    </tr>\n",
       "    <tr>\n",
       "      <th>95</th>\n",
       "      <td>elegante</td>\n",
       "      <td>UV Protection Round Sunglasses (Free Size)</td>\n",
       "      <td>₹359</td>\n",
       "    </tr>\n",
       "    <tr>\n",
       "      <th>96</th>\n",
       "      <td>Lee Topper</td>\n",
       "      <td>UV Protection Aviator Sunglasses (58)</td>\n",
       "      <td>₹259</td>\n",
       "    </tr>\n",
       "    <tr>\n",
       "      <th>97</th>\n",
       "      <td>PIRASO</td>\n",
       "      <td>UV Protection, Mirrored Aviator Sunglasses (Fr...</td>\n",
       "      <td>₹319</td>\n",
       "    </tr>\n",
       "    <tr>\n",
       "      <th>98</th>\n",
       "      <td>kingsunglasses</td>\n",
       "      <td>UV Protection, Others Retro Square Sunglasses ...</td>\n",
       "      <td>₹249</td>\n",
       "    </tr>\n",
       "    <tr>\n",
       "      <th>99</th>\n",
       "      <td>Fravy</td>\n",
       "      <td>UV Protection Round Sunglasses (54)</td>\n",
       "      <td>₹289</td>\n",
       "    </tr>\n",
       "  </tbody>\n",
       "</table>\n",
       "<p>100 rows × 3 columns</p>\n",
       "</div>"
      ],
      "text/plain": [
       "             BRAND                                PRODUCT DISCRIPTION PRICE\n",
       "0            Fravy  UV Protection Retro Square Sunglasses (Free Size)  ₹299\n",
       "1   ROZZETTA CRAFT  UV Protection, Gradient Retro Square Sunglasse...  ₹325\n",
       "2         Fastrack   UV Protection Rectangular Sunglasses (Free Size)  ₹513\n",
       "3           PIRASO              UV Protection Aviator Sunglasses (54)  ₹200\n",
       "4           PIRASO              UV Protection Aviator Sunglasses (54)  ₹200\n",
       "..             ...                                                ...   ...\n",
       "95        elegante         UV Protection Round Sunglasses (Free Size)  ₹359\n",
       "96      Lee Topper              UV Protection Aviator Sunglasses (58)  ₹259\n",
       "97          PIRASO  UV Protection, Mirrored Aviator Sunglasses (Fr...  ₹319\n",
       "98  kingsunglasses  UV Protection, Others Retro Square Sunglasses ...  ₹249\n",
       "99           Fravy                UV Protection Round Sunglasses (54)  ₹289\n",
       "\n",
       "[100 rows x 3 columns]"
      ]
     },
     "execution_count": 139,
     "metadata": {},
     "output_type": "execute_result"
    }
   ],
   "source": [
    "data={'BRAND':brand_namelist,'PRODUCT DISCRIPTION':product_namelist,'PRICE':price_rangelist}\n",
    "\n",
    "df=pd.DataFrame(data)\n",
    "df"
   ]
  },
  {
   "cell_type": "markdown",
   "id": "5cdd6933",
   "metadata": {},
   "source": [
    "# ANS5"
   ]
  },
  {
   "cell_type": "code",
   "execution_count": 2,
   "id": "61b604b3",
   "metadata": {},
   "outputs": [],
   "source": [
    "# connect with the driver\n",
    "\n",
    "driver=webdriver.Chrome(r'C:\\Users\\vinay\\OneDrive\\Desktop\\New folder\\Chromedriver.exe')"
   ]
  },
  {
   "cell_type": "code",
   "execution_count": 3,
   "id": "f04929ef",
   "metadata": {},
   "outputs": [],
   "source": [
    "# get the url\n",
    "driver.get('https://www.flipkart.com/apple-iphone-11-black-64-gb-includes-earpods-power-adapter/product-reviews/itm0f37c2240b217?pid=MOBFKCTSVZAXUHGR&lid=LSTMOBFKCTSVZAXUHGREPBFGI&marketplace=FLIPKART')"
   ]
  },
  {
   "cell_type": "code",
   "execution_count": 4,
   "id": "7afcf687",
   "metadata": {},
   "outputs": [],
   "source": [
    "rating=[]\n",
    "review_summary=[]\n",
    "full_summary=[]"
   ]
  },
  {
   "cell_type": "code",
   "execution_count": 5,
   "id": "8283ac1d",
   "metadata": {},
   "outputs": [],
   "source": [
    "for k in range(0,10):\n",
    "    \n",
    "\n",
    "    \n",
    "    rating_tags=driver.find_elements_by_xpath('//div[@class=\"_3LWZlK _1BLPMq\"]')\n",
    "    \n",
    "    for i in rating_tags:\n",
    "        rating.append(i.text)\n",
    "       \n",
    "    next=driver.find_elements_by_xpath('//a[@class=\"_1LKTO3\"]')\n",
    "    next"
   ]
  },
  {
   "cell_type": "code",
   "execution_count": 6,
   "id": "5952f910",
   "metadata": {},
   "outputs": [
    {
     "data": {
      "text/plain": [
       "['5',\n",
       " '5',\n",
       " '5',\n",
       " '5',\n",
       " '5',\n",
       " '5',\n",
       " '5',\n",
       " '4',\n",
       " '5',\n",
       " '5',\n",
       " '5',\n",
       " '5',\n",
       " '5',\n",
       " '5',\n",
       " '5',\n",
       " '5',\n",
       " '5',\n",
       " '4',\n",
       " '5',\n",
       " '5',\n",
       " '5',\n",
       " '5',\n",
       " '5',\n",
       " '5',\n",
       " '5',\n",
       " '5',\n",
       " '5',\n",
       " '4',\n",
       " '5',\n",
       " '5',\n",
       " '5',\n",
       " '5',\n",
       " '5',\n",
       " '5',\n",
       " '5',\n",
       " '5',\n",
       " '5',\n",
       " '4',\n",
       " '5',\n",
       " '5',\n",
       " '5',\n",
       " '5',\n",
       " '5',\n",
       " '5',\n",
       " '5',\n",
       " '5',\n",
       " '5',\n",
       " '4',\n",
       " '5',\n",
       " '5',\n",
       " '5',\n",
       " '5',\n",
       " '5',\n",
       " '5',\n",
       " '5',\n",
       " '5',\n",
       " '5',\n",
       " '4',\n",
       " '5',\n",
       " '5',\n",
       " '5',\n",
       " '5',\n",
       " '5',\n",
       " '5',\n",
       " '5',\n",
       " '5',\n",
       " '5',\n",
       " '4',\n",
       " '5',\n",
       " '5',\n",
       " '5',\n",
       " '5',\n",
       " '5',\n",
       " '5',\n",
       " '5',\n",
       " '5',\n",
       " '5',\n",
       " '4',\n",
       " '5',\n",
       " '5',\n",
       " '5',\n",
       " '5',\n",
       " '5',\n",
       " '5',\n",
       " '5',\n",
       " '5',\n",
       " '5',\n",
       " '4',\n",
       " '5',\n",
       " '5',\n",
       " '5',\n",
       " '5',\n",
       " '5',\n",
       " '5',\n",
       " '5',\n",
       " '5',\n",
       " '5',\n",
       " '4',\n",
       " '5',\n",
       " '5']"
      ]
     },
     "execution_count": 6,
     "metadata": {},
     "output_type": "execute_result"
    }
   ],
   "source": [
    "rating"
   ]
  },
  {
   "cell_type": "code",
   "execution_count": 7,
   "id": "dab03273",
   "metadata": {},
   "outputs": [],
   "source": [
    "for j in range(0,10):\n",
    "    \n",
    "\n",
    "    \n",
    "    review_tags=driver.find_elements_by_xpath('//p[@class=\"_2-N8zT\"]')\n",
    "    \n",
    "    for i in review_tags:\n",
    "        review_summary.append(i.text)\n",
    "        \n",
    "    next=driver.find_elements_by_xpath('//a[@class=\"_1LKTO3\"]')\n",
    "    next"
   ]
  },
  {
   "cell_type": "code",
   "execution_count": 8,
   "id": "4af6600a",
   "metadata": {},
   "outputs": [
    {
     "data": {
      "text/plain": [
       "['Brilliant',\n",
       " 'Simply awesome',\n",
       " 'Perfect product!',\n",
       " 'Worth every penny',\n",
       " 'Fabulous!',\n",
       " 'Best in the market!',\n",
       " 'Great product',\n",
       " 'Good choice',\n",
       " 'Worth every penny',\n",
       " 'Highly recommended',\n",
       " 'Brilliant',\n",
       " 'Simply awesome',\n",
       " 'Perfect product!',\n",
       " 'Worth every penny',\n",
       " 'Fabulous!',\n",
       " 'Best in the market!',\n",
       " 'Great product',\n",
       " 'Good choice',\n",
       " 'Worth every penny',\n",
       " 'Highly recommended',\n",
       " 'Brilliant',\n",
       " 'Simply awesome',\n",
       " 'Perfect product!',\n",
       " 'Worth every penny',\n",
       " 'Fabulous!',\n",
       " 'Best in the market!',\n",
       " 'Great product',\n",
       " 'Good choice',\n",
       " 'Worth every penny',\n",
       " 'Highly recommended',\n",
       " 'Brilliant',\n",
       " 'Simply awesome',\n",
       " 'Perfect product!',\n",
       " 'Worth every penny',\n",
       " 'Fabulous!',\n",
       " 'Best in the market!',\n",
       " 'Great product',\n",
       " 'Good choice',\n",
       " 'Worth every penny',\n",
       " 'Highly recommended',\n",
       " 'Brilliant',\n",
       " 'Simply awesome',\n",
       " 'Perfect product!',\n",
       " 'Worth every penny',\n",
       " 'Fabulous!',\n",
       " 'Best in the market!',\n",
       " 'Great product',\n",
       " 'Good choice',\n",
       " 'Worth every penny',\n",
       " 'Highly recommended',\n",
       " 'Brilliant',\n",
       " 'Simply awesome',\n",
       " 'Perfect product!',\n",
       " 'Worth every penny',\n",
       " 'Fabulous!',\n",
       " 'Best in the market!',\n",
       " 'Great product',\n",
       " 'Good choice',\n",
       " 'Worth every penny',\n",
       " 'Highly recommended',\n",
       " 'Brilliant',\n",
       " 'Simply awesome',\n",
       " 'Perfect product!',\n",
       " 'Worth every penny',\n",
       " 'Fabulous!',\n",
       " 'Best in the market!',\n",
       " 'Great product',\n",
       " 'Good choice',\n",
       " 'Worth every penny',\n",
       " 'Highly recommended',\n",
       " 'Brilliant',\n",
       " 'Simply awesome',\n",
       " 'Perfect product!',\n",
       " 'Worth every penny',\n",
       " 'Fabulous!',\n",
       " 'Best in the market!',\n",
       " 'Great product',\n",
       " 'Good choice',\n",
       " 'Worth every penny',\n",
       " 'Highly recommended',\n",
       " 'Brilliant',\n",
       " 'Simply awesome',\n",
       " 'Perfect product!',\n",
       " 'Worth every penny',\n",
       " 'Fabulous!',\n",
       " 'Best in the market!',\n",
       " 'Great product',\n",
       " 'Good choice',\n",
       " 'Worth every penny',\n",
       " 'Highly recommended',\n",
       " 'Brilliant',\n",
       " 'Simply awesome',\n",
       " 'Perfect product!',\n",
       " 'Worth every penny',\n",
       " 'Fabulous!',\n",
       " 'Best in the market!',\n",
       " 'Great product',\n",
       " 'Good choice',\n",
       " 'Worth every penny',\n",
       " 'Highly recommended']"
      ]
     },
     "execution_count": 8,
     "metadata": {},
     "output_type": "execute_result"
    }
   ],
   "source": [
    "review_summary"
   ]
  },
  {
   "cell_type": "code",
   "execution_count": 36,
   "id": "6ba25006",
   "metadata": {},
   "outputs": [],
   "source": [
    "for l in range(0,10):\n",
    "    \n",
    "\n",
    "    \n",
    "    full_tags=driver.find_elements_by_xpath('//*[@id=\"container\"]/div/div[3]/div/div[1]/div[2]/div[3]/div/div/div/div[2]/div')\n",
    "    \n",
    "    for a in full_tags:\n",
    "        full_summary.append(a.text)\n",
    "        \n",
    "    next=driver.find_element_by_xpath('//a[@class=\"_1LKTO3\"]')\n",
    "    next    "
   ]
  },
  {
   "cell_type": "code",
   "execution_count": 37,
   "id": "8519f468",
   "metadata": {},
   "outputs": [
    {
     "data": {
      "text/plain": [
       "['The Best Phone for the Money\\n\\nThe iPhone 11 offers superb cameras, a more durable design and excellent battery life for an affordable price.\\n\\nCompelling ultra-wide camera\\nNew Night mode is excellent\\nLong battery life',\n",
       " 'The Best Phone for the Money\\n\\nThe iPhone 11 offers superb cameras, a more durable design and excellent battery life for an affordable price.\\n\\nCompelling ultra-wide camera\\nNew Night mode is excellent\\nLong battery life',\n",
       " 'The Best Phone for the Money\\n\\nThe iPhone 11 offers superb cameras, a more durable design and excellent battery life for an affordable price.\\n\\nCompelling ultra-wide camera\\nNew Night mode is excellent\\nLong battery life',\n",
       " 'The Best Phone for the Money\\n\\nThe iPhone 11 offers superb cameras, a more durable design and excellent battery life for an affordable price.\\n\\nCompelling ultra-wide camera\\nNew Night mode is excellent\\nLong battery life',\n",
       " 'The Best Phone for the Money\\n\\nThe iPhone 11 offers superb cameras, a more durable design and excellent battery life for an affordable price.\\n\\nCompelling ultra-wide camera\\nNew Night mode is excellent\\nLong battery life',\n",
       " 'The Best Phone for the Money\\n\\nThe iPhone 11 offers superb cameras, a more durable design and excellent battery life for an affordable price.\\n\\nCompelling ultra-wide camera\\nNew Night mode is excellent\\nLong battery life',\n",
       " 'The Best Phone for the Money\\n\\nThe iPhone 11 offers superb cameras, a more durable design and excellent battery life for an affordable price.\\n\\nCompelling ultra-wide camera\\nNew Night mode is excellent\\nLong battery life',\n",
       " 'The Best Phone for the Money\\n\\nThe iPhone 11 offers superb cameras, a more durable design and excellent battery life for an affordable price.\\n\\nCompelling ultra-wide camera\\nNew Night mode is excellent\\nLong battery life',\n",
       " 'The Best Phone for the Money\\n\\nThe iPhone 11 offers superb cameras, a more durable design and excellent battery life for an affordable price.\\n\\nCompelling ultra-wide camera\\nNew Night mode is excellent\\nLong battery life',\n",
       " 'The Best Phone for the Money\\n\\nThe iPhone 11 offers superb cameras, a more durable design and excellent battery life for an affordable price.\\n\\nCompelling ultra-wide camera\\nNew Night mode is excellent\\nLong battery life',\n",
       " 'The Best Phone for the Money\\n\\nThe iPhone 11 offers superb cameras, a more durable design and excellent battery life for an affordable price.\\n\\nCompelling ultra-wide camera\\nNew Night mode is excellent\\nLong battery life',\n",
       " 'The Best Phone for the Money\\n\\nThe iPhone 11 offers superb cameras, a more durable design and excellent battery life for an affordable price.\\n\\nCompelling ultra-wide camera\\nNew Night mode is excellent\\nLong battery life',\n",
       " 'The Best Phone for the Money\\n\\nThe iPhone 11 offers superb cameras, a more durable design and excellent battery life for an affordable price.\\n\\nCompelling ultra-wide camera\\nNew Night mode is excellent\\nLong battery life',\n",
       " 'The Best Phone for the Money\\n\\nThe iPhone 11 offers superb cameras, a more durable design and excellent battery life for an affordable price.\\n\\nCompelling ultra-wide camera\\nNew Night mode is excellent\\nLong battery life',\n",
       " 'The Best Phone for the Money\\n\\nThe iPhone 11 offers superb cameras, a more durable design and excellent battery life for an affordable price.\\n\\nCompelling ultra-wide camera\\nNew Night mode is excellent\\nLong battery life',\n",
       " 'The Best Phone for the Money\\n\\nThe iPhone 11 offers superb cameras, a more durable design and excellent battery life for an affordable price.\\n\\nCompelling ultra-wide camera\\nNew Night mode is excellent\\nLong battery life',\n",
       " 'The Best Phone for the Money\\n\\nThe iPhone 11 offers superb cameras, a more durable design and excellent battery life for an affordable price.\\n\\nCompelling ultra-wide camera\\nNew Night mode is excellent\\nLong battery life',\n",
       " 'The Best Phone for the Money\\n\\nThe iPhone 11 offers superb cameras, a more durable design and excellent battery life for an affordable price.\\n\\nCompelling ultra-wide camera\\nNew Night mode is excellent\\nLong battery life',\n",
       " 'The Best Phone for the Money\\n\\nThe iPhone 11 offers superb cameras, a more durable design and excellent battery life for an affordable price.\\n\\nCompelling ultra-wide camera\\nNew Night mode is excellent\\nLong battery life',\n",
       " 'The Best Phone for the Money\\n\\nThe iPhone 11 offers superb cameras, a more durable design and excellent battery life for an affordable price.\\n\\nCompelling ultra-wide camera\\nNew Night mode is excellent\\nLong battery life',\n",
       " 'The Best Phone for the Money\\n\\nThe iPhone 11 offers superb cameras, a more durable design and excellent battery life for an affordable price.\\n\\nCompelling ultra-wide camera\\nNew Night mode is excellent\\nLong battery life',\n",
       " 'The Best Phone for the Money\\n\\nThe iPhone 11 offers superb cameras, a more durable design and excellent battery life for an affordable price.\\n\\nCompelling ultra-wide camera\\nNew Night mode is excellent\\nLong battery life',\n",
       " 'The Best Phone for the Money\\n\\nThe iPhone 11 offers superb cameras, a more durable design and excellent battery life for an affordable price.\\n\\nCompelling ultra-wide camera\\nNew Night mode is excellent\\nLong battery life',\n",
       " 'The Best Phone for the Money\\n\\nThe iPhone 11 offers superb cameras, a more durable design and excellent battery life for an affordable price.\\n\\nCompelling ultra-wide camera\\nNew Night mode is excellent\\nLong battery life',\n",
       " 'The Best Phone for the Money\\n\\nThe iPhone 11 offers superb cameras, a more durable design and excellent battery life for an affordable price.\\n\\nCompelling ultra-wide camera\\nNew Night mode is excellent\\nLong battery life',\n",
       " 'The Best Phone for the Money\\n\\nThe iPhone 11 offers superb cameras, a more durable design and excellent battery life for an affordable price.\\n\\nCompelling ultra-wide camera\\nNew Night mode is excellent\\nLong battery life',\n",
       " 'The Best Phone for the Money\\n\\nThe iPhone 11 offers superb cameras, a more durable design and excellent battery life for an affordable price.\\n\\nCompelling ultra-wide camera\\nNew Night mode is excellent\\nLong battery life',\n",
       " 'The Best Phone for the Money\\n\\nThe iPhone 11 offers superb cameras, a more durable design and excellent battery life for an affordable price.\\n\\nCompelling ultra-wide camera\\nNew Night mode is excellent\\nLong battery life',\n",
       " 'The Best Phone for the Money\\n\\nThe iPhone 11 offers superb cameras, a more durable design and excellent battery life for an affordable price.\\n\\nCompelling ultra-wide camera\\nNew Night mode is excellent\\nLong battery life',\n",
       " 'The Best Phone for the Money\\n\\nThe iPhone 11 offers superb cameras, a more durable design and excellent battery life for an affordable price.\\n\\nCompelling ultra-wide camera\\nNew Night mode is excellent\\nLong battery life',\n",
       " 'The Best Phone for the Money\\n\\nThe iPhone 11 offers superb cameras, a more durable design and excellent battery life for an affordable price.\\n\\nCompelling ultra-wide camera\\nNew Night mode is excellent\\nLong battery life',\n",
       " 'The Best Phone for the Money\\n\\nThe iPhone 11 offers superb cameras, a more durable design and excellent battery life for an affordable price.\\n\\nCompelling ultra-wide camera\\nNew Night mode is excellent\\nLong battery life',\n",
       " 'The Best Phone for the Money\\n\\nThe iPhone 11 offers superb cameras, a more durable design and excellent battery life for an affordable price.\\n\\nCompelling ultra-wide camera\\nNew Night mode is excellent\\nLong battery life',\n",
       " 'The Best Phone for the Money\\n\\nThe iPhone 11 offers superb cameras, a more durable design and excellent battery life for an affordable price.\\n\\nCompelling ultra-wide camera\\nNew Night mode is excellent\\nLong battery life',\n",
       " 'The Best Phone for the Money\\n\\nThe iPhone 11 offers superb cameras, a more durable design and excellent battery life for an affordable price.\\n\\nCompelling ultra-wide camera\\nNew Night mode is excellent\\nLong battery life',\n",
       " 'The Best Phone for the Money\\n\\nThe iPhone 11 offers superb cameras, a more durable design and excellent battery life for an affordable price.\\n\\nCompelling ultra-wide camera\\nNew Night mode is excellent\\nLong battery life',\n",
       " 'The Best Phone for the Money\\n\\nThe iPhone 11 offers superb cameras, a more durable design and excellent battery life for an affordable price.\\n\\nCompelling ultra-wide camera\\nNew Night mode is excellent\\nLong battery life',\n",
       " 'The Best Phone for the Money\\n\\nThe iPhone 11 offers superb cameras, a more durable design and excellent battery life for an affordable price.\\n\\nCompelling ultra-wide camera\\nNew Night mode is excellent\\nLong battery life',\n",
       " 'The Best Phone for the Money\\n\\nThe iPhone 11 offers superb cameras, a more durable design and excellent battery life for an affordable price.\\n\\nCompelling ultra-wide camera\\nNew Night mode is excellent\\nLong battery life',\n",
       " 'The Best Phone for the Money\\n\\nThe iPhone 11 offers superb cameras, a more durable design and excellent battery life for an affordable price.\\n\\nCompelling ultra-wide camera\\nNew Night mode is excellent\\nLong battery life',\n",
       " 'The Best Phone for the Money\\n\\nThe iPhone 11 offers superb cameras, a more durable design and excellent battery life for an affordable price.\\n\\nCompelling ultra-wide camera\\nNew Night mode is excellent\\nLong battery life',\n",
       " 'The Best Phone for the Money\\n\\nThe iPhone 11 offers superb cameras, a more durable design and excellent battery life for an affordable price.\\n\\nCompelling ultra-wide camera\\nNew Night mode is excellent\\nLong battery life',\n",
       " 'The Best Phone for the Money\\n\\nThe iPhone 11 offers superb cameras, a more durable design and excellent battery life for an affordable price.\\n\\nCompelling ultra-wide camera\\nNew Night mode is excellent\\nLong battery life',\n",
       " 'The Best Phone for the Money\\n\\nThe iPhone 11 offers superb cameras, a more durable design and excellent battery life for an affordable price.\\n\\nCompelling ultra-wide camera\\nNew Night mode is excellent\\nLong battery life',\n",
       " 'The Best Phone for the Money\\n\\nThe iPhone 11 offers superb cameras, a more durable design and excellent battery life for an affordable price.\\n\\nCompelling ultra-wide camera\\nNew Night mode is excellent\\nLong battery life',\n",
       " 'The Best Phone for the Money\\n\\nThe iPhone 11 offers superb cameras, a more durable design and excellent battery life for an affordable price.\\n\\nCompelling ultra-wide camera\\nNew Night mode is excellent\\nLong battery life',\n",
       " 'The Best Phone for the Money\\n\\nThe iPhone 11 offers superb cameras, a more durable design and excellent battery life for an affordable price.\\n\\nCompelling ultra-wide camera\\nNew Night mode is excellent\\nLong battery life',\n",
       " 'The Best Phone for the Money\\n\\nThe iPhone 11 offers superb cameras, a more durable design and excellent battery life for an affordable price.\\n\\nCompelling ultra-wide camera\\nNew Night mode is excellent\\nLong battery life',\n",
       " 'The Best Phone for the Money\\n\\nThe iPhone 11 offers superb cameras, a more durable design and excellent battery life for an affordable price.\\n\\nCompelling ultra-wide camera\\nNew Night mode is excellent\\nLong battery life',\n",
       " 'The Best Phone for the Money\\n\\nThe iPhone 11 offers superb cameras, a more durable design and excellent battery life for an affordable price.\\n\\nCompelling ultra-wide camera\\nNew Night mode is excellent\\nLong battery life',\n",
       " 'The Best Phone for the Money\\n\\nThe iPhone 11 offers superb cameras, a more durable design and excellent battery life for an affordable price.\\n\\nCompelling ultra-wide camera\\nNew Night mode is excellent\\nLong battery life',\n",
       " 'The Best Phone for the Money\\n\\nThe iPhone 11 offers superb cameras, a more durable design and excellent battery life for an affordable price.\\n\\nCompelling ultra-wide camera\\nNew Night mode is excellent\\nLong battery life',\n",
       " 'The Best Phone for the Money\\n\\nThe iPhone 11 offers superb cameras, a more durable design and excellent battery life for an affordable price.\\n\\nCompelling ultra-wide camera\\nNew Night mode is excellent\\nLong battery life',\n",
       " 'The Best Phone for the Money\\n\\nThe iPhone 11 offers superb cameras, a more durable design and excellent battery life for an affordable price.\\n\\nCompelling ultra-wide camera\\nNew Night mode is excellent\\nLong battery life',\n",
       " 'The Best Phone for the Money\\n\\nThe iPhone 11 offers superb cameras, a more durable design and excellent battery life for an affordable price.\\n\\nCompelling ultra-wide camera\\nNew Night mode is excellent\\nLong battery life',\n",
       " 'The Best Phone for the Money\\n\\nThe iPhone 11 offers superb cameras, a more durable design and excellent battery life for an affordable price.\\n\\nCompelling ultra-wide camera\\nNew Night mode is excellent\\nLong battery life',\n",
       " 'The Best Phone for the Money\\n\\nThe iPhone 11 offers superb cameras, a more durable design and excellent battery life for an affordable price.\\n\\nCompelling ultra-wide camera\\nNew Night mode is excellent\\nLong battery life',\n",
       " 'The Best Phone for the Money\\n\\nThe iPhone 11 offers superb cameras, a more durable design and excellent battery life for an affordable price.\\n\\nCompelling ultra-wide camera\\nNew Night mode is excellent\\nLong battery life',\n",
       " 'The Best Phone for the Money\\n\\nThe iPhone 11 offers superb cameras, a more durable design and excellent battery life for an affordable price.\\n\\nCompelling ultra-wide camera\\nNew Night mode is excellent\\nLong battery life',\n",
       " 'The Best Phone for the Money\\n\\nThe iPhone 11 offers superb cameras, a more durable design and excellent battery life for an affordable price.\\n\\nCompelling ultra-wide camera\\nNew Night mode is excellent\\nLong battery life',\n",
       " 'The Best Phone for the Money\\n\\nThe iPhone 11 offers superb cameras, a more durable design and excellent battery life for an affordable price.\\n\\nCompelling ultra-wide camera\\nNew Night mode is excellent\\nLong battery life',\n",
       " 'The Best Phone for the Money\\n\\nThe iPhone 11 offers superb cameras, a more durable design and excellent battery life for an affordable price.\\n\\nCompelling ultra-wide camera\\nNew Night mode is excellent\\nLong battery life',\n",
       " 'The Best Phone for the Money\\n\\nThe iPhone 11 offers superb cameras, a more durable design and excellent battery life for an affordable price.\\n\\nCompelling ultra-wide camera\\nNew Night mode is excellent\\nLong battery life',\n",
       " 'The Best Phone for the Money\\n\\nThe iPhone 11 offers superb cameras, a more durable design and excellent battery life for an affordable price.\\n\\nCompelling ultra-wide camera\\nNew Night mode is excellent\\nLong battery life',\n",
       " 'The Best Phone for the Money\\n\\nThe iPhone 11 offers superb cameras, a more durable design and excellent battery life for an affordable price.\\n\\nCompelling ultra-wide camera\\nNew Night mode is excellent\\nLong battery life',\n",
       " 'The Best Phone for the Money\\n\\nThe iPhone 11 offers superb cameras, a more durable design and excellent battery life for an affordable price.\\n\\nCompelling ultra-wide camera\\nNew Night mode is excellent\\nLong battery life',\n",
       " 'The Best Phone for the Money\\n\\nThe iPhone 11 offers superb cameras, a more durable design and excellent battery life for an affordable price.\\n\\nCompelling ultra-wide camera\\nNew Night mode is excellent\\nLong battery life',\n",
       " 'The Best Phone for the Money\\n\\nThe iPhone 11 offers superb cameras, a more durable design and excellent battery life for an affordable price.\\n\\nCompelling ultra-wide camera\\nNew Night mode is excellent\\nLong battery life',\n",
       " 'The Best Phone for the Money\\n\\nThe iPhone 11 offers superb cameras, a more durable design and excellent battery life for an affordable price.\\n\\nCompelling ultra-wide camera\\nNew Night mode is excellent\\nLong battery life',\n",
       " 'The Best Phone for the Money\\n\\nThe iPhone 11 offers superb cameras, a more durable design and excellent battery life for an affordable price.\\n\\nCompelling ultra-wide camera\\nNew Night mode is excellent\\nLong battery life',\n",
       " 'The Best Phone for the Money\\n\\nThe iPhone 11 offers superb cameras, a more durable design and excellent battery life for an affordable price.\\n\\nCompelling ultra-wide camera\\nNew Night mode is excellent\\nLong battery life',\n",
       " 'The Best Phone for the Money\\n\\nThe iPhone 11 offers superb cameras, a more durable design and excellent battery life for an affordable price.\\n\\nCompelling ultra-wide camera\\nNew Night mode is excellent\\nLong battery life',\n",
       " 'The Best Phone for the Money\\n\\nThe iPhone 11 offers superb cameras, a more durable design and excellent battery life for an affordable price.\\n\\nCompelling ultra-wide camera\\nNew Night mode is excellent\\nLong battery life',\n",
       " 'The Best Phone for the Money\\n\\nThe iPhone 11 offers superb cameras, a more durable design and excellent battery life for an affordable price.\\n\\nCompelling ultra-wide camera\\nNew Night mode is excellent\\nLong battery life',\n",
       " 'The Best Phone for the Money\\n\\nThe iPhone 11 offers superb cameras, a more durable design and excellent battery life for an affordable price.\\n\\nCompelling ultra-wide camera\\nNew Night mode is excellent\\nLong battery life',\n",
       " 'The Best Phone for the Money\\n\\nThe iPhone 11 offers superb cameras, a more durable design and excellent battery life for an affordable price.\\n\\nCompelling ultra-wide camera\\nNew Night mode is excellent\\nLong battery life',\n",
       " 'The Best Phone for the Money\\n\\nThe iPhone 11 offers superb cameras, a more durable design and excellent battery life for an affordable price.\\n\\nCompelling ultra-wide camera\\nNew Night mode is excellent\\nLong battery life',\n",
       " 'The Best Phone for the Money\\n\\nThe iPhone 11 offers superb cameras, a more durable design and excellent battery life for an affordable price.\\n\\nCompelling ultra-wide camera\\nNew Night mode is excellent\\nLong battery life',\n",
       " 'The Best Phone for the Money\\n\\nThe iPhone 11 offers superb cameras, a more durable design and excellent battery life for an affordable price.\\n\\nCompelling ultra-wide camera\\nNew Night mode is excellent\\nLong battery life',\n",
       " 'The Best Phone for the Money\\n\\nThe iPhone 11 offers superb cameras, a more durable design and excellent battery life for an affordable price.\\n\\nCompelling ultra-wide camera\\nNew Night mode is excellent\\nLong battery life',\n",
       " 'The Best Phone for the Money\\n\\nThe iPhone 11 offers superb cameras, a more durable design and excellent battery life for an affordable price.\\n\\nCompelling ultra-wide camera\\nNew Night mode is excellent\\nLong battery life',\n",
       " 'The Best Phone for the Money\\n\\nThe iPhone 11 offers superb cameras, a more durable design and excellent battery life for an affordable price.\\n\\nCompelling ultra-wide camera\\nNew Night mode is excellent\\nLong battery life',\n",
       " 'The Best Phone for the Money\\n\\nThe iPhone 11 offers superb cameras, a more durable design and excellent battery life for an affordable price.\\n\\nCompelling ultra-wide camera\\nNew Night mode is excellent\\nLong battery life',\n",
       " 'The Best Phone for the Money\\n\\nThe iPhone 11 offers superb cameras, a more durable design and excellent battery life for an affordable price.\\n\\nCompelling ultra-wide camera\\nNew Night mode is excellent\\nLong battery life',\n",
       " 'The Best Phone for the Money\\n\\nThe iPhone 11 offers superb cameras, a more durable design and excellent battery life for an affordable price.\\n\\nCompelling ultra-wide camera\\nNew Night mode is excellent\\nLong battery life',\n",
       " 'The Best Phone for the Money\\n\\nThe iPhone 11 offers superb cameras, a more durable design and excellent battery life for an affordable price.\\n\\nCompelling ultra-wide camera\\nNew Night mode is excellent\\nLong battery life',\n",
       " 'The Best Phone for the Money\\n\\nThe iPhone 11 offers superb cameras, a more durable design and excellent battery life for an affordable price.\\n\\nCompelling ultra-wide camera\\nNew Night mode is excellent\\nLong battery life',\n",
       " 'The Best Phone for the Money\\n\\nThe iPhone 11 offers superb cameras, a more durable design and excellent battery life for an affordable price.\\n\\nCompelling ultra-wide camera\\nNew Night mode is excellent\\nLong battery life',\n",
       " 'The Best Phone for the Money\\n\\nThe iPhone 11 offers superb cameras, a more durable design and excellent battery life for an affordable price.\\n\\nCompelling ultra-wide camera\\nNew Night mode is excellent\\nLong battery life',\n",
       " 'The Best Phone for the Money\\n\\nThe iPhone 11 offers superb cameras, a more durable design and excellent battery life for an affordable price.\\n\\nCompelling ultra-wide camera\\nNew Night mode is excellent\\nLong battery life',\n",
       " 'The Best Phone for the Money\\n\\nThe iPhone 11 offers superb cameras, a more durable design and excellent battery life for an affordable price.\\n\\nCompelling ultra-wide camera\\nNew Night mode is excellent\\nLong battery life',\n",
       " 'The Best Phone for the Money\\n\\nThe iPhone 11 offers superb cameras, a more durable design and excellent battery life for an affordable price.\\n\\nCompelling ultra-wide camera\\nNew Night mode is excellent\\nLong battery life',\n",
       " 'The Best Phone for the Money\\n\\nThe iPhone 11 offers superb cameras, a more durable design and excellent battery life for an affordable price.\\n\\nCompelling ultra-wide camera\\nNew Night mode is excellent\\nLong battery life',\n",
       " 'The Best Phone for the Money\\n\\nThe iPhone 11 offers superb cameras, a more durable design and excellent battery life for an affordable price.\\n\\nCompelling ultra-wide camera\\nNew Night mode is excellent\\nLong battery life',\n",
       " 'The Best Phone for the Money\\n\\nThe iPhone 11 offers superb cameras, a more durable design and excellent battery life for an affordable price.\\n\\nCompelling ultra-wide camera\\nNew Night mode is excellent\\nLong battery life',\n",
       " 'The Best Phone for the Money\\n\\nThe iPhone 11 offers superb cameras, a more durable design and excellent battery life for an affordable price.\\n\\nCompelling ultra-wide camera\\nNew Night mode is excellent\\nLong battery life',\n",
       " 'The Best Phone for the Money\\n\\nThe iPhone 11 offers superb cameras, a more durable design and excellent battery life for an affordable price.\\n\\nCompelling ultra-wide camera\\nNew Night mode is excellent\\nLong battery life',\n",
       " 'The Best Phone for the Money\\n\\nThe iPhone 11 offers superb cameras, a more durable design and excellent battery life for an affordable price.\\n\\nCompelling ultra-wide camera\\nNew Night mode is excellent\\nLong battery life',\n",
       " 'The Best Phone for the Money\\n\\nThe iPhone 11 offers superb cameras, a more durable design and excellent battery life for an affordable price.\\n\\nCompelling ultra-wide camera\\nNew Night mode is excellent\\nLong battery life',\n",
       " 'The Best Phone for the Money\\n\\nThe iPhone 11 offers superb cameras, a more durable design and excellent battery life for an affordable price.\\n\\nCompelling ultra-wide camera\\nNew Night mode is excellent\\nLong battery life']"
      ]
     },
     "execution_count": 37,
     "metadata": {},
     "output_type": "execute_result"
    }
   ],
   "source": [
    "full_summary"
   ]
  },
  {
   "cell_type": "code",
   "execution_count": 38,
   "id": "ceb4beeb",
   "metadata": {},
   "outputs": [
    {
     "name": "stdout",
     "output_type": "stream",
     "text": [
      "100 100 100\n"
     ]
    }
   ],
   "source": [
    "print(len(rating),len(review_summary),len(full_summary))"
   ]
  },
  {
   "cell_type": "code",
   "execution_count": 39,
   "id": "e02671fc",
   "metadata": {},
   "outputs": [
    {
     "data": {
      "text/html": [
       "<div>\n",
       "<style scoped>\n",
       "    .dataframe tbody tr th:only-of-type {\n",
       "        vertical-align: middle;\n",
       "    }\n",
       "\n",
       "    .dataframe tbody tr th {\n",
       "        vertical-align: top;\n",
       "    }\n",
       "\n",
       "    .dataframe thead th {\n",
       "        text-align: right;\n",
       "    }\n",
       "</style>\n",
       "<table border=\"1\" class=\"dataframe\">\n",
       "  <thead>\n",
       "    <tr style=\"text-align: right;\">\n",
       "      <th></th>\n",
       "      <th>RATING</th>\n",
       "      <th>REVIEW SUMMARY</th>\n",
       "      <th>FULL SUMMARY</th>\n",
       "    </tr>\n",
       "  </thead>\n",
       "  <tbody>\n",
       "    <tr>\n",
       "      <th>0</th>\n",
       "      <td>5</td>\n",
       "      <td>Brilliant</td>\n",
       "      <td>The Best Phone for the Money\\n\\nThe iPhone 11 ...</td>\n",
       "    </tr>\n",
       "    <tr>\n",
       "      <th>1</th>\n",
       "      <td>5</td>\n",
       "      <td>Simply awesome</td>\n",
       "      <td>The Best Phone for the Money\\n\\nThe iPhone 11 ...</td>\n",
       "    </tr>\n",
       "    <tr>\n",
       "      <th>2</th>\n",
       "      <td>5</td>\n",
       "      <td>Perfect product!</td>\n",
       "      <td>The Best Phone for the Money\\n\\nThe iPhone 11 ...</td>\n",
       "    </tr>\n",
       "    <tr>\n",
       "      <th>3</th>\n",
       "      <td>5</td>\n",
       "      <td>Worth every penny</td>\n",
       "      <td>The Best Phone for the Money\\n\\nThe iPhone 11 ...</td>\n",
       "    </tr>\n",
       "    <tr>\n",
       "      <th>4</th>\n",
       "      <td>5</td>\n",
       "      <td>Fabulous!</td>\n",
       "      <td>The Best Phone for the Money\\n\\nThe iPhone 11 ...</td>\n",
       "    </tr>\n",
       "    <tr>\n",
       "      <th>...</th>\n",
       "      <td>...</td>\n",
       "      <td>...</td>\n",
       "      <td>...</td>\n",
       "    </tr>\n",
       "    <tr>\n",
       "      <th>95</th>\n",
       "      <td>5</td>\n",
       "      <td>Best in the market!</td>\n",
       "      <td>The Best Phone for the Money\\n\\nThe iPhone 11 ...</td>\n",
       "    </tr>\n",
       "    <tr>\n",
       "      <th>96</th>\n",
       "      <td>5</td>\n",
       "      <td>Great product</td>\n",
       "      <td>The Best Phone for the Money\\n\\nThe iPhone 11 ...</td>\n",
       "    </tr>\n",
       "    <tr>\n",
       "      <th>97</th>\n",
       "      <td>4</td>\n",
       "      <td>Good choice</td>\n",
       "      <td>The Best Phone for the Money\\n\\nThe iPhone 11 ...</td>\n",
       "    </tr>\n",
       "    <tr>\n",
       "      <th>98</th>\n",
       "      <td>5</td>\n",
       "      <td>Worth every penny</td>\n",
       "      <td>The Best Phone for the Money\\n\\nThe iPhone 11 ...</td>\n",
       "    </tr>\n",
       "    <tr>\n",
       "      <th>99</th>\n",
       "      <td>5</td>\n",
       "      <td>Highly recommended</td>\n",
       "      <td>The Best Phone for the Money\\n\\nThe iPhone 11 ...</td>\n",
       "    </tr>\n",
       "  </tbody>\n",
       "</table>\n",
       "<p>100 rows × 3 columns</p>\n",
       "</div>"
      ],
      "text/plain": [
       "   RATING       REVIEW SUMMARY  \\\n",
       "0       5            Brilliant   \n",
       "1       5       Simply awesome   \n",
       "2       5     Perfect product!   \n",
       "3       5    Worth every penny   \n",
       "4       5            Fabulous!   \n",
       "..    ...                  ...   \n",
       "95      5  Best in the market!   \n",
       "96      5        Great product   \n",
       "97      4          Good choice   \n",
       "98      5    Worth every penny   \n",
       "99      5   Highly recommended   \n",
       "\n",
       "                                         FULL SUMMARY  \n",
       "0   The Best Phone for the Money\\n\\nThe iPhone 11 ...  \n",
       "1   The Best Phone for the Money\\n\\nThe iPhone 11 ...  \n",
       "2   The Best Phone for the Money\\n\\nThe iPhone 11 ...  \n",
       "3   The Best Phone for the Money\\n\\nThe iPhone 11 ...  \n",
       "4   The Best Phone for the Money\\n\\nThe iPhone 11 ...  \n",
       "..                                                ...  \n",
       "95  The Best Phone for the Money\\n\\nThe iPhone 11 ...  \n",
       "96  The Best Phone for the Money\\n\\nThe iPhone 11 ...  \n",
       "97  The Best Phone for the Money\\n\\nThe iPhone 11 ...  \n",
       "98  The Best Phone for the Money\\n\\nThe iPhone 11 ...  \n",
       "99  The Best Phone for the Money\\n\\nThe iPhone 11 ...  \n",
       "\n",
       "[100 rows x 3 columns]"
      ]
     },
     "execution_count": 39,
     "metadata": {},
     "output_type": "execute_result"
    }
   ],
   "source": [
    "data={'RATING':rating,'REVIEW SUMMARY':review_summary,'FULL SUMMARY':full_summary}\n",
    "\n",
    "df=pd.DataFrame(data)\n",
    "df"
   ]
  },
  {
   "cell_type": "code",
   "execution_count": null,
   "id": "16f301d1",
   "metadata": {},
   "outputs": [],
   "source": []
  },
  {
   "cell_type": "markdown",
   "id": "56f8b11e",
   "metadata": {},
   "source": [
    "# ANS 6"
   ]
  },
  {
   "cell_type": "code",
   "execution_count": 2,
   "id": "d866f651",
   "metadata": {},
   "outputs": [],
   "source": [
    "# connect with the driver\n",
    "\n",
    "driver=webdriver.Chrome(r'C:\\Users\\vinay\\OneDrive\\Desktop\\New folder\\Chromedriver.exe')"
   ]
  },
  {
   "cell_type": "code",
   "execution_count": 3,
   "id": "77d7466a",
   "metadata": {},
   "outputs": [],
   "source": [
    "# get the url\n",
    "driver.get('https://flipkart.com/')"
   ]
  },
  {
   "cell_type": "code",
   "execution_count": 6,
   "id": "177b41cc",
   "metadata": {},
   "outputs": [],
   "source": [
    "#finding element for job search bar \n",
    "search_sneakers=driver.find_element_by_xpath('//input[@class=\"_3704LK\"]')\n",
    "search_sneakers.send_keys('sneakers')"
   ]
  },
  {
   "cell_type": "code",
   "execution_count": 7,
   "id": "05a89974",
   "metadata": {},
   "outputs": [],
   "source": [
    "search_but=driver.find_element_by_xpath('//button[@class=\"L0Z3Pu\"]')\n",
    "search_but.click()"
   ]
  },
  {
   "cell_type": "code",
   "execution_count": 8,
   "id": "520600a2",
   "metadata": {},
   "outputs": [],
   "source": [
    "brand=[]\n",
    "product_description=[]\n",
    "price=[]"
   ]
  },
  {
   "cell_type": "code",
   "execution_count": 9,
   "id": "386d0842",
   "metadata": {},
   "outputs": [
    {
     "data": {
      "text/plain": [
       "['Numenzo',\n",
       " 'Magnolia',\n",
       " 'Numenzo',\n",
       " \"Neeman's\",\n",
       " 'FOOTGRAB',\n",
       " 'URBANBOX',\n",
       " 'D-SNEAKERZ',\n",
       " \"Neeman's\",\n",
       " 'Chevit',\n",
       " 'SCATCHITE',\n",
       " 'Numenzo',\n",
       " \"Neeman's\",\n",
       " 'Robbie jones',\n",
       " 'T-ROCK',\n",
       " 'Kraasa',\n",
       " \"Neeman's\",\n",
       " 'Arohi',\n",
       " 'Kreverse',\n",
       " 'Wlinzak',\n",
       " \"Neeman's\",\n",
       " 'SPARX',\n",
       " 'Robbie jones',\n",
       " 'Chevit',\n",
       " \"Neeman's\",\n",
       " 'BIRDE',\n",
       " 'ASTEROID',\n",
       " 'India hub',\n",
       " 'LEE COOPER',\n",
       " 'Shoes Bank',\n",
       " 'Kraasa',\n",
       " 'VORII',\n",
       " 'LEE COOPER',\n",
       " 'ASIAN',\n",
       " 'India hub',\n",
       " 'Robbie jones',\n",
       " 'EEGO ITALY',\n",
       " 'Robbie jones',\n",
       " 'BRUTON',\n",
       " 'Clymb',\n",
       " 'LEE COOPER']"
      ]
     },
     "execution_count": 9,
     "metadata": {},
     "output_type": "execute_result"
    }
   ],
   "source": [
    "brand_tags=driver.find_elements_by_xpath('//div[@class=\"_2WkVRV\"]')\n",
    "brand_tags\n",
    "for i in brand_tags:\n",
    "    brand.append(i.text)\n",
    "brand    "
   ]
  },
  {
   "cell_type": "code",
   "execution_count": 10,
   "id": "6d1b9e5e",
   "metadata": {},
   "outputs": [
    {
     "data": {
      "text/plain": [
       "['Numenzo',\n",
       " 'Magnolia',\n",
       " 'Numenzo',\n",
       " \"Neeman's\",\n",
       " 'FOOTGRAB',\n",
       " 'URBANBOX',\n",
       " 'D-SNEAKERZ',\n",
       " \"Neeman's\",\n",
       " 'Chevit',\n",
       " 'SCATCHITE',\n",
       " 'Numenzo',\n",
       " \"Neeman's\",\n",
       " 'Robbie jones',\n",
       " 'T-ROCK',\n",
       " 'Kraasa',\n",
       " \"Neeman's\",\n",
       " 'Arohi',\n",
       " 'Kreverse',\n",
       " 'Wlinzak',\n",
       " \"Neeman's\",\n",
       " 'SPARX',\n",
       " 'Robbie jones',\n",
       " 'Chevit',\n",
       " \"Neeman's\",\n",
       " 'BIRDE',\n",
       " 'ASTEROID',\n",
       " 'India hub',\n",
       " 'LEE COOPER',\n",
       " 'Shoes Bank',\n",
       " 'Kraasa',\n",
       " 'VORII',\n",
       " 'LEE COOPER',\n",
       " 'ASIAN',\n",
       " 'India hub',\n",
       " 'Robbie jones',\n",
       " 'EEGO ITALY',\n",
       " 'Robbie jones',\n",
       " 'BRUTON',\n",
       " 'Clymb',\n",
       " 'LEE COOPER']"
      ]
     },
     "execution_count": 10,
     "metadata": {},
     "output_type": "execute_result"
    }
   ],
   "source": [
    "brand2=[]\n",
    "\n",
    "brand_tags2=driver.find_elements_by_xpath('//div[@class=\"_2WkVRV\"]')\n",
    "brand_tags2\n",
    "for i in brand_tags2:\n",
    "    brand2.append(i.text)\n",
    "brand2   "
   ]
  },
  {
   "cell_type": "code",
   "execution_count": 11,
   "id": "c4e9c1d3",
   "metadata": {},
   "outputs": [
    {
     "data": {
      "text/plain": [
       "['Numenzo',\n",
       " 'Magnolia',\n",
       " 'Numenzo',\n",
       " \"Neeman's\",\n",
       " 'FOOTGRAB',\n",
       " 'URBANBOX',\n",
       " 'D-SNEAKERZ',\n",
       " \"Neeman's\",\n",
       " 'Chevit',\n",
       " 'SCATCHITE',\n",
       " 'Numenzo',\n",
       " \"Neeman's\",\n",
       " 'Robbie jones',\n",
       " 'T-ROCK',\n",
       " 'Kraasa',\n",
       " \"Neeman's\",\n",
       " 'Arohi',\n",
       " 'Kreverse',\n",
       " 'Wlinzak',\n",
       " \"Neeman's\"]"
      ]
     },
     "execution_count": 11,
     "metadata": {},
     "output_type": "execute_result"
    }
   ],
   "source": [
    "brand3=[]\n",
    "\n",
    "brand_tags3=driver.find_elements_by_xpath('//div[@class=\"_2WkVRV\"]')\n",
    "brand_tags3\n",
    "for i in brand_tags3:\n",
    "    brand3.append(i.text)\n",
    "brand3=brand3[0:20]\n",
    "brand3"
   ]
  },
  {
   "cell_type": "code",
   "execution_count": 12,
   "id": "563fb264",
   "metadata": {},
   "outputs": [
    {
     "data": {
      "text/plain": [
       "100"
      ]
     },
     "execution_count": 12,
     "metadata": {},
     "output_type": "execute_result"
    }
   ],
   "source": [
    "brand_name=brand+brand2+brand3\n",
    "len(brand_name)"
   ]
  },
  {
   "cell_type": "code",
   "execution_count": 17,
   "id": "3542cc0f",
   "metadata": {},
   "outputs": [
    {
     "data": {
      "text/plain": [
       "54"
      ]
     },
     "execution_count": 17,
     "metadata": {},
     "output_type": "execute_result"
    }
   ],
   "source": [
    "product_tags=driver.find_elements_by_xpath('//a[@class=\"IRpwTa\"]')\n",
    "product_tags\n",
    "for i in product_tags:\n",
    "    product_description.append(i.text)\n",
    "    \n",
    "len(product_description )   "
   ]
  },
  {
   "cell_type": "code",
   "execution_count": 18,
   "id": "7ea715f8",
   "metadata": {},
   "outputs": [
    {
     "data": {
      "text/plain": [
       "27"
      ]
     },
     "execution_count": 18,
     "metadata": {},
     "output_type": "execute_result"
    }
   ],
   "source": [
    "product_description2=[]\n",
    "product_tags2=driver.find_elements_by_xpath('//a[@class=\"IRpwTa\"]')\n",
    "product_tags2\n",
    "for i in product_tags2:\n",
    "    product_description2.append(i.text)\n",
    "    \n",
    "len(product_description2)"
   ]
  },
  {
   "cell_type": "code",
   "execution_count": 24,
   "id": "18fea528",
   "metadata": {},
   "outputs": [
    {
     "data": {
      "text/plain": [
       "['411 Casual Sneakers For Men',\n",
       " 'Sneakers For Men',\n",
       " 'Sneakers For Men',\n",
       " 'White Boots || High Tops || Sneakers For Men',\n",
       " \"Casual , Partywear Sneakers Shoes For Men's And Boys Wh...\",\n",
       " 'Super Stylish & Trendy Combo Pack of 02 Pairs Sneakers ...',\n",
       " 'Sneakers Sneakers For Men',\n",
       " 'Numenzo Black Sneaker For Men Sneakers For Men',\n",
       " 'Casual Sneakers Shoes For Men Sneakers For Men',\n",
       " 'Synthetic Leather Casual Partywear Wedding Sneakers Sho...',\n",
       " 'Shark-41 Sneakers For Men',\n",
       " 'Sneakers For Men',\n",
       " 'Sneakers For Men',\n",
       " 'Men White Sneakers Sneakers For Men',\n",
       " 'Sneakers For Men',\n",
       " 'Perfect & Affordable Combo Pack of 02 Pairs Sneakers Ou...',\n",
       " 'Sports Running Shoes Sneakers For Men',\n",
       " 'Sneakers For Men']"
      ]
     },
     "execution_count": 24,
     "metadata": {},
     "output_type": "execute_result"
    }
   ],
   "source": [
    "product_description3=[]\n",
    "product_tags3=driver.find_elements_by_xpath('//a[@class=\"IRpwTa\"]')\n",
    "product_tags3\n",
    "for i in product_tags3:\n",
    "    product_description3.append(i.text)\n",
    "    \n",
    "product_description3=product_description3[0:20]\n",
    "product_description3[0:18]"
   ]
  },
  {
   "cell_type": "code",
   "execution_count": 26,
   "id": "c1c4d02d",
   "metadata": {},
   "outputs": [],
   "source": [
    "sneakers_description=product_description+product_description2+product_description3\n",
    "snekers=sneakers_description[0:100]"
   ]
  },
  {
   "cell_type": "code",
   "execution_count": 27,
   "id": "ed688e7a",
   "metadata": {},
   "outputs": [
    {
     "data": {
      "text/plain": [
       "100"
      ]
     },
     "execution_count": 27,
     "metadata": {},
     "output_type": "execute_result"
    }
   ],
   "source": [
    "len(snekers)"
   ]
  },
  {
   "cell_type": "code",
   "execution_count": 32,
   "id": "4487f498",
   "metadata": {},
   "outputs": [
    {
     "data": {
      "text/plain": [
       "39"
      ]
     },
     "execution_count": 32,
     "metadata": {},
     "output_type": "execute_result"
    }
   ],
   "source": [
    "price_tags=driver.find_elements_by_xpath('//div[@class=\"_30jeq3\"]')\n",
    "price_tags\n",
    "for i in price_tags:\n",
    "    price.append(i.text)\n",
    "    \n",
    "len(price)"
   ]
  },
  {
   "cell_type": "code",
   "execution_count": 33,
   "id": "de7d6a96",
   "metadata": {},
   "outputs": [
    {
     "data": {
      "text/plain": [
       "39"
      ]
     },
     "execution_count": 33,
     "metadata": {},
     "output_type": "execute_result"
    }
   ],
   "source": [
    "price2=[]\n",
    "price_tags2=driver.find_elements_by_xpath('//div[@class=\"_30jeq3\"]')\n",
    "price_tags2\n",
    "for i in price_tags2:\n",
    "    price2.append(i.text)\n",
    "    \n",
    "len(price2)"
   ]
  },
  {
   "cell_type": "code",
   "execution_count": 34,
   "id": "9603fc82",
   "metadata": {},
   "outputs": [
    {
     "data": {
      "text/plain": [
       "39"
      ]
     },
     "execution_count": 34,
     "metadata": {},
     "output_type": "execute_result"
    }
   ],
   "source": [
    "price3=[]\n",
    "price_tags3=driver.find_elements_by_xpath('//div[@class=\"_30jeq3\"]')\n",
    "price_tags3\n",
    "for i in price_tags3:\n",
    "    price3.append(i.text)\n",
    "    \n",
    "price3=price3\n",
    "len(price3)"
   ]
  },
  {
   "cell_type": "code",
   "execution_count": 35,
   "id": "adce6c98",
   "metadata": {},
   "outputs": [
    {
     "data": {
      "text/plain": [
       "100"
      ]
     },
     "execution_count": 35,
     "metadata": {},
     "output_type": "execute_result"
    }
   ],
   "source": [
    "final_price=price+price2+price3\n",
    "FINAL_PRICE=final_price[0:100]\n",
    "len(FINAL_PRICE)"
   ]
  },
  {
   "cell_type": "code",
   "execution_count": 36,
   "id": "9000d848",
   "metadata": {},
   "outputs": [
    {
     "data": {
      "text/html": [
       "<div>\n",
       "<style scoped>\n",
       "    .dataframe tbody tr th:only-of-type {\n",
       "        vertical-align: middle;\n",
       "    }\n",
       "\n",
       "    .dataframe tbody tr th {\n",
       "        vertical-align: top;\n",
       "    }\n",
       "\n",
       "    .dataframe thead th {\n",
       "        text-align: right;\n",
       "    }\n",
       "</style>\n",
       "<table border=\"1\" class=\"dataframe\">\n",
       "  <thead>\n",
       "    <tr style=\"text-align: right;\">\n",
       "      <th></th>\n",
       "      <th>BRAND</th>\n",
       "      <th>PRODUCT DESCRIPTION</th>\n",
       "      <th>PRICE</th>\n",
       "    </tr>\n",
       "  </thead>\n",
       "  <tbody>\n",
       "    <tr>\n",
       "      <th>0</th>\n",
       "      <td>Numenzo</td>\n",
       "      <td>411 Casual Sneakers For Men</td>\n",
       "      <td>₹499</td>\n",
       "    </tr>\n",
       "    <tr>\n",
       "      <th>1</th>\n",
       "      <td>Magnolia</td>\n",
       "      <td>Sneakers For Men</td>\n",
       "      <td>₹398</td>\n",
       "    </tr>\n",
       "    <tr>\n",
       "      <th>2</th>\n",
       "      <td>Numenzo</td>\n",
       "      <td>Sneakers For Men</td>\n",
       "      <td>₹479</td>\n",
       "    </tr>\n",
       "    <tr>\n",
       "      <th>3</th>\n",
       "      <td>Neeman's</td>\n",
       "      <td>White Boots || High Tops || Sneakers For Men</td>\n",
       "      <td>₹2,399</td>\n",
       "    </tr>\n",
       "    <tr>\n",
       "      <th>4</th>\n",
       "      <td>FOOTGRAB</td>\n",
       "      <td>Casual , Partywear Sneakers Shoes For Men's An...</td>\n",
       "      <td>₹549</td>\n",
       "    </tr>\n",
       "    <tr>\n",
       "      <th>...</th>\n",
       "      <td>...</td>\n",
       "      <td>...</td>\n",
       "      <td>...</td>\n",
       "    </tr>\n",
       "    <tr>\n",
       "      <th>95</th>\n",
       "      <td>Neeman's</td>\n",
       "      <td>Sneakers For Men</td>\n",
       "      <td>₹245</td>\n",
       "    </tr>\n",
       "    <tr>\n",
       "      <th>96</th>\n",
       "      <td>Arohi</td>\n",
       "      <td>Perfect &amp; Affordable Combo Pack of 02 Pairs Sn...</td>\n",
       "      <td>₹399</td>\n",
       "    </tr>\n",
       "    <tr>\n",
       "      <th>97</th>\n",
       "      <td>Kreverse</td>\n",
       "      <td>Sports Running Shoes Sneakers For Men</td>\n",
       "      <td>₹2,399</td>\n",
       "    </tr>\n",
       "    <tr>\n",
       "      <th>98</th>\n",
       "      <td>Wlinzak</td>\n",
       "      <td>Sneakers For Men</td>\n",
       "      <td>₹636</td>\n",
       "    </tr>\n",
       "    <tr>\n",
       "      <th>99</th>\n",
       "      <td>Neeman's</td>\n",
       "      <td>White Sneaker For Men's/Boy's Sneakers For Men</td>\n",
       "      <td>₹499</td>\n",
       "    </tr>\n",
       "  </tbody>\n",
       "</table>\n",
       "<p>100 rows × 3 columns</p>\n",
       "</div>"
      ],
      "text/plain": [
       "       BRAND                                PRODUCT DESCRIPTION   PRICE\n",
       "0    Numenzo                        411 Casual Sneakers For Men    ₹499\n",
       "1   Magnolia                                   Sneakers For Men    ₹398\n",
       "2    Numenzo                                   Sneakers For Men    ₹479\n",
       "3   Neeman's       White Boots || High Tops || Sneakers For Men  ₹2,399\n",
       "4   FOOTGRAB  Casual , Partywear Sneakers Shoes For Men's An...    ₹549\n",
       "..       ...                                                ...     ...\n",
       "95  Neeman's                                   Sneakers For Men    ₹245\n",
       "96     Arohi  Perfect & Affordable Combo Pack of 02 Pairs Sn...    ₹399\n",
       "97  Kreverse              Sports Running Shoes Sneakers For Men  ₹2,399\n",
       "98   Wlinzak                                   Sneakers For Men    ₹636\n",
       "99  Neeman's     White Sneaker For Men's/Boy's Sneakers For Men    ₹499\n",
       "\n",
       "[100 rows x 3 columns]"
      ]
     },
     "execution_count": 36,
     "metadata": {},
     "output_type": "execute_result"
    }
   ],
   "source": [
    "data={'BRAND':brand_name,'PRODUCT DESCRIPTION':snekers,'PRICE':FINAL_PRICE}\n",
    "df=pd.DataFrame(data)\n",
    "df"
   ]
  },
  {
   "cell_type": "markdown",
   "id": "1d4866eb",
   "metadata": {},
   "source": [
    "# ANS7"
   ]
  },
  {
   "cell_type": "code",
   "execution_count": 24,
   "id": "106a95fd",
   "metadata": {},
   "outputs": [],
   "source": [
    "# connect with the driver\n",
    "\n",
    "driver=webdriver.Chrome(r'C:\\Users\\vinay\\OneDrive\\Desktop\\New folder\\Chromedriver.exe')"
   ]
  },
  {
   "cell_type": "code",
   "execution_count": 25,
   "id": "e0b2db5e",
   "metadata": {},
   "outputs": [],
   "source": [
    "# get the url\n",
    "driver.get('https://www.myntra.com/shoes')"
   ]
  },
  {
   "cell_type": "code",
   "execution_count": 34,
   "id": "97766326",
   "metadata": {},
   "outputs": [],
   "source": [
    "#finding element for job search bar \n",
    "search_price=driver.find_element_by_xpath('/html/body/div[2]/div/div[1]/main/div[3]/div[1]/section/div/div[5]/ul/li[2]/label/div')\n",
    "search_price.click()\n"
   ]
  },
  {
   "cell_type": "code",
   "execution_count": 35,
   "id": "e21cf085",
   "metadata": {},
   "outputs": [],
   "source": [
    "search_color=driver.find_element_by_xpath('/html/body/div[2]/div/div[1]/main/div[3]/div[1]/section/div/div[6]/ul/li[1]/label/div')\n",
    "search_color.click()"
   ]
  },
  {
   "cell_type": "code",
   "execution_count": 36,
   "id": "26b9af76",
   "metadata": {},
   "outputs": [],
   "source": [
    "brand=[]\n",
    "price=[]\n",
    "description=[]"
   ]
  },
  {
   "cell_type": "code",
   "execution_count": 50,
   "id": "8927ff0a",
   "metadata": {},
   "outputs": [
    {
     "data": {
      "text/plain": [
       "100"
      ]
     },
     "execution_count": 50,
     "metadata": {},
     "output_type": "execute_result"
    }
   ],
   "source": [
    "brand_tags=driver.find_elements_by_xpath('//h3[@class=\"product-brand\"]')\n",
    "\n",
    "for i in brand_tags:\n",
    "    brand.append(i.text)\n",
    "    \n",
    "brand_name=brand[0:100]\n",
    "\n",
    "len(brand_name)"
   ]
  },
  {
   "cell_type": "code",
   "execution_count": 46,
   "id": "5f81ec5d",
   "metadata": {},
   "outputs": [
    {
     "data": {
      "text/plain": [
       "100"
      ]
     },
     "execution_count": 46,
     "metadata": {},
     "output_type": "execute_result"
    }
   ],
   "source": [
    "price_tags=driver.find_elements_by_xpath('//div[@class=\"product-price\"]')\n",
    "\n",
    "for i in price_tags:\n",
    "    price.append(i.text)\n",
    "    \n",
    "len(price )  "
   ]
  },
  {
   "cell_type": "code",
   "execution_count": 48,
   "id": "10478e31",
   "metadata": {},
   "outputs": [
    {
     "data": {
      "text/plain": [
       "100"
      ]
     },
     "execution_count": 48,
     "metadata": {},
     "output_type": "execute_result"
    }
   ],
   "source": [
    "des_tags=driver.find_elements_by_xpath('//h4[@class=\"product-product\"]')\n",
    "\n",
    "for i in des_tags:\n",
    "    description.append(i.text)\n",
    "len(description)"
   ]
  },
  {
   "cell_type": "code",
   "execution_count": 51,
   "id": "d7b1243d",
   "metadata": {},
   "outputs": [
    {
     "data": {
      "text/html": [
       "<div>\n",
       "<style scoped>\n",
       "    .dataframe tbody tr th:only-of-type {\n",
       "        vertical-align: middle;\n",
       "    }\n",
       "\n",
       "    .dataframe tbody tr th {\n",
       "        vertical-align: top;\n",
       "    }\n",
       "\n",
       "    .dataframe thead th {\n",
       "        text-align: right;\n",
       "    }\n",
       "</style>\n",
       "<table border=\"1\" class=\"dataframe\">\n",
       "  <thead>\n",
       "    <tr style=\"text-align: right;\">\n",
       "      <th></th>\n",
       "      <th>BRAND NAME</th>\n",
       "      <th>PRICE</th>\n",
       "      <th>SHORT SHOE DESCRIPTION</th>\n",
       "    </tr>\n",
       "  </thead>\n",
       "  <tbody>\n",
       "    <tr>\n",
       "      <th>0</th>\n",
       "      <td>Nike</td>\n",
       "      <td>Rs. 7195</td>\n",
       "      <td>Men Zoom Span 4 Running Shoes</td>\n",
       "    </tr>\n",
       "    <tr>\n",
       "      <th>1</th>\n",
       "      <td>Nike\\nMen Zoom Span 4 Running Shoes\\nRs. 7195\\...</td>\n",
       "      <td>Rs. 8099Rs. 8999(10% OFF)</td>\n",
       "      <td>Men Solid Leather Formal Slip-Ons</td>\n",
       "    </tr>\n",
       "    <tr>\n",
       "      <th>2</th>\n",
       "      <td></td>\n",
       "      <td>Rs. 10399Rs. 12999(20% OFF)</td>\n",
       "      <td>Men Jamming 2.0 Running Shoes</td>\n",
       "    </tr>\n",
       "    <tr>\n",
       "      <th>3</th>\n",
       "      <td>Nike</td>\n",
       "      <td>Rs. 7995</td>\n",
       "      <td>Men FLIGHT LEGACY Sneakers</td>\n",
       "    </tr>\n",
       "    <tr>\n",
       "      <th>4</th>\n",
       "      <td>Hush Puppies</td>\n",
       "      <td>Rs. 11249Rs. 14999(25% OFF)</td>\n",
       "      <td>Men Deviate Nitro Running Shoe</td>\n",
       "    </tr>\n",
       "    <tr>\n",
       "      <th>...</th>\n",
       "      <td>...</td>\n",
       "      <td>...</td>\n",
       "      <td>...</td>\n",
       "    </tr>\n",
       "    <tr>\n",
       "      <th>95</th>\n",
       "      <td>Hush Puppies</td>\n",
       "      <td>Rs. 13900</td>\n",
       "      <td>Women Leather Heeled Boots</td>\n",
       "    </tr>\n",
       "    <tr>\n",
       "      <th>96</th>\n",
       "      <td>Ruosh</td>\n",
       "      <td>Rs. 8999</td>\n",
       "      <td>Men Textured Leather Formal Derbys</td>\n",
       "    </tr>\n",
       "    <tr>\n",
       "      <th>97</th>\n",
       "      <td>DAVINCHI</td>\n",
       "      <td>Rs. 7490</td>\n",
       "      <td>Men Formal Leather Brogues</td>\n",
       "    </tr>\n",
       "    <tr>\n",
       "      <th>98</th>\n",
       "      <td>Saint G</td>\n",
       "      <td>Rs. 7199Rs. 8999(20% OFF)</td>\n",
       "      <td>Men Solid Casual Sneakers</td>\n",
       "    </tr>\n",
       "    <tr>\n",
       "      <th>99</th>\n",
       "      <td>Pavers England</td>\n",
       "      <td>Rs. 9999</td>\n",
       "      <td>Leather Block Heeled Boots</td>\n",
       "    </tr>\n",
       "  </tbody>\n",
       "</table>\n",
       "<p>100 rows × 3 columns</p>\n",
       "</div>"
      ],
      "text/plain": [
       "                                           BRAND NAME  \\\n",
       "0                                                Nike   \n",
       "1   Nike\\nMen Zoom Span 4 Running Shoes\\nRs. 7195\\...   \n",
       "2                                                       \n",
       "3                                                Nike   \n",
       "4                                        Hush Puppies   \n",
       "..                                                ...   \n",
       "95                                       Hush Puppies   \n",
       "96                                              Ruosh   \n",
       "97                                           DAVINCHI   \n",
       "98                                            Saint G   \n",
       "99                                     Pavers England   \n",
       "\n",
       "                          PRICE              SHORT SHOE DESCRIPTION  \n",
       "0                      Rs. 7195       Men Zoom Span 4 Running Shoes  \n",
       "1     Rs. 8099Rs. 8999(10% OFF)   Men Solid Leather Formal Slip-Ons  \n",
       "2   Rs. 10399Rs. 12999(20% OFF)       Men Jamming 2.0 Running Shoes  \n",
       "3                      Rs. 7995          Men FLIGHT LEGACY Sneakers  \n",
       "4   Rs. 11249Rs. 14999(25% OFF)      Men Deviate Nitro Running Shoe  \n",
       "..                          ...                                 ...  \n",
       "95                    Rs. 13900          Women Leather Heeled Boots  \n",
       "96                     Rs. 8999  Men Textured Leather Formal Derbys  \n",
       "97                     Rs. 7490          Men Formal Leather Brogues  \n",
       "98    Rs. 7199Rs. 8999(20% OFF)           Men Solid Casual Sneakers  \n",
       "99                     Rs. 9999          Leather Block Heeled Boots  \n",
       "\n",
       "[100 rows x 3 columns]"
      ]
     },
     "execution_count": 51,
     "metadata": {},
     "output_type": "execute_result"
    }
   ],
   "source": [
    "data={'BRAND NAME':brand_name,'PRICE':price,'SHORT SHOE DESCRIPTION':description}\n",
    "\n",
    "df=pd.DataFrame(data)\n",
    "df"
   ]
  },
  {
   "cell_type": "markdown",
   "id": "ea811df5",
   "metadata": {},
   "source": [
    "# ANS8"
   ]
  },
  {
   "cell_type": "code",
   "execution_count": 31,
   "id": "ec1e383b",
   "metadata": {},
   "outputs": [],
   "source": [
    "# connect with the driver\n",
    "\n",
    "driver=webdriver.Chrome(r'C:\\Users\\vinay\\OneDrive\\Desktop\\New folder\\Chromedriver.exe')"
   ]
  },
  {
   "cell_type": "code",
   "execution_count": 32,
   "id": "d62cee9b",
   "metadata": {},
   "outputs": [],
   "source": [
    "# get the url\n",
    "driver.get(' https://www.amazon.in/ ')"
   ]
  },
  {
   "cell_type": "code",
   "execution_count": 33,
   "id": "e80e3d0f",
   "metadata": {},
   "outputs": [],
   "source": [
    "#finding element for job search bar \n",
    "search_laptop=driver.find_element_by_xpath('//*[@id=\"twotabsearchtextbox\"]')\n",
    "search_laptop.send_keys('laptop')\n",
    "search_but=driver.find_element_by_xpath('//*[@id=\"nav-search-submit-button\"]')\n",
    "search_but.click()"
   ]
  },
  {
   "cell_type": "code",
   "execution_count": 34,
   "id": "6589371d",
   "metadata": {},
   "outputs": [],
   "source": [
    "#setting filter\n",
    "search_i7=driver.find_element_by_xpath('//*[@id=\"p_n_feature_thirteen_browse-bin/12598163031\"]/span/a/div/label/i')\n",
    "search_i7.click()"
   ]
  },
  {
   "cell_type": "code",
   "execution_count": 30,
   "id": "c08312ef",
   "metadata": {},
   "outputs": [],
   "source": [
    "title=[]\n",
    "rating=[]\n",
    "price=[]"
   ]
  },
  {
   "cell_type": "code",
   "execution_count": 39,
   "id": "372845dd",
   "metadata": {},
   "outputs": [
    {
     "ename": "TypeError",
     "evalue": "'WebElement' object is not iterable",
     "output_type": "error",
     "traceback": [
      "\u001b[1;31m---------------------------------------------------------------------------\u001b[0m",
      "\u001b[1;31mTypeError\u001b[0m                                 Traceback (most recent call last)",
      "\u001b[1;32m<ipython-input-39-ce0a90fd9997>\u001b[0m in \u001b[0;36m<module>\u001b[1;34m\u001b[0m\n\u001b[0;32m      1\u001b[0m \u001b[0mtitle_tag\u001b[0m\u001b[1;33m=\u001b[0m\u001b[0mdriver\u001b[0m\u001b[1;33m.\u001b[0m\u001b[0mfind_element_by_xpath\u001b[0m\u001b[1;33m(\u001b[0m\u001b[1;34m'/html/body/div[1]/div[2]/div[1]/div[1]/div/span[3]/div[2]/div[2]/div/span/div/div/div/div/div[2]/div[2]/div/div/div[1]/h2/a/span'\u001b[0m\u001b[1;33m)\u001b[0m\u001b[1;33m\u001b[0m\u001b[1;33m\u001b[0m\u001b[0m\n\u001b[0;32m      2\u001b[0m \u001b[1;33m\u001b[0m\u001b[0m\n\u001b[1;32m----> 3\u001b[1;33m \u001b[1;32mfor\u001b[0m \u001b[0mi\u001b[0m \u001b[1;32min\u001b[0m \u001b[0mtitle_tag\u001b[0m\u001b[1;33m:\u001b[0m\u001b[1;33m\u001b[0m\u001b[1;33m\u001b[0m\u001b[0m\n\u001b[0m\u001b[0;32m      4\u001b[0m     \u001b[0mtitle\u001b[0m\u001b[1;33m.\u001b[0m\u001b[0mappend\u001b[0m\u001b[1;33m(\u001b[0m\u001b[0mi\u001b[0m\u001b[1;33m.\u001b[0m\u001b[0mtext\u001b[0m\u001b[1;33m)\u001b[0m\u001b[1;33m\u001b[0m\u001b[1;33m\u001b[0m\u001b[0m\n\u001b[0;32m      5\u001b[0m \u001b[1;33m\u001b[0m\u001b[0m\n",
      "\u001b[1;31mTypeError\u001b[0m: 'WebElement' object is not iterable"
     ]
    }
   ],
   "source": [
    "title_tag=driver.find_elements_by_xpath('/html/body/div[1]/div[2]/div[1]/div[1]/div/span[3]/div[2]/div[2]/div/span/div/div/div/div/div[2]/div[2]/div/div/div[1]/h2/a/span')\n",
    "\n",
    "for i in title_tag:\n",
    "    title.append(i.text)\n",
    "    \n",
    "title    "
   ]
  },
  {
   "cell_type": "code",
   "execution_count": null,
   "id": "48fb587d",
   "metadata": {},
   "outputs": [],
   "source": []
  },
  {
   "cell_type": "markdown",
   "id": "f3f83700",
   "metadata": {},
   "source": [
    "# ANS9"
   ]
  },
  {
   "cell_type": "code",
   "execution_count": 2,
   "id": "9ab201ab",
   "metadata": {},
   "outputs": [],
   "source": [
    "# connect with the driver\n",
    "\n",
    "driver=webdriver.Chrome(r'C:\\Users\\vinay\\OneDrive\\Desktop\\New folder\\Chromedriver.exe')"
   ]
  },
  {
   "cell_type": "code",
   "execution_count": 3,
   "id": "5ecebabb",
   "metadata": {},
   "outputs": [],
   "source": [
    "# get the url\n",
    "driver.get('https://www.ambitionbox.com/')"
   ]
  },
  {
   "cell_type": "code",
   "execution_count": 4,
   "id": "50ed831b",
   "metadata": {},
   "outputs": [],
   "source": [
    "#finding element for job search bar \n",
    "search_jobs=driver.find_element_by_xpath('//a[@class=\"link jobs\"]')\n",
    "search_jobs.click()\n",
    "\n"
   ]
  },
  {
   "cell_type": "code",
   "execution_count": 5,
   "id": "44f9b3dd",
   "metadata": {},
   "outputs": [],
   "source": [
    "search_des=driver.find_element_by_xpath('//input[@class=\"input tt-input\"]')\n",
    "search_des.send_keys('data scientist')\n",
    "\n",
    "\n",
    "search_but=driver.find_element_by_xpath('//span[@class=\"ctas-btn-medium\"]')\n",
    "search_but.click()"
   ]
  },
  {
   "cell_type": "code",
   "execution_count": 7,
   "id": "9f9188ba",
   "metadata": {},
   "outputs": [],
   "source": [
    "search_loc=driver.find_element_by_xpath('//div[@title=\"Location\"]')\n",
    "search_loc.click()"
   ]
  },
  {
   "cell_type": "code",
   "execution_count": 8,
   "id": "dc020d3f",
   "metadata": {},
   "outputs": [],
   "source": [
    "\n",
    "search_des=driver.find_element_by_xpath('//html/body/div/div/div/div[2]/div[2]/div[1]/div/div/div/div[2]/div[2]/div/div[2]/input')\n",
    "search_des.send_keys('noida')"
   ]
  },
  {
   "cell_type": "code",
   "execution_count": 9,
   "id": "e985b10b",
   "metadata": {},
   "outputs": [],
   "source": [
    "select_noida=driver.find_element_by_xpath('//*[@id=\"filters-row\"]/div/div/div[2]/div[2]/div/div[3]/div[1]/div[1]/div/label')\n",
    "select_noida.click()"
   ]
  },
  {
   "cell_type": "code",
   "execution_count": 10,
   "id": "01159d15",
   "metadata": {},
   "outputs": [],
   "source": [
    "company_name=[]\n",
    "no_of_days=[]\n",
    "rating=[] "
   ]
  },
  {
   "cell_type": "code",
   "execution_count": 11,
   "id": "a49b0711",
   "metadata": {},
   "outputs": [
    {
     "data": {
      "text/plain": [
       "['Optum Global Solutions (India) Private Limited\\n4.1\\n(1.4k Reviews)',\n",
       " 'Steria India Ltd\\n4.1\\n(833 Reviews)',\n",
       " 'Ameriprise Financial\\n4.1\\n(250 Reviews)',\n",
       " 'Jubilant Foodworks Limited\\n3.9\\n(455 Reviews)',\n",
       " 'Steria India Ltd\\n4.1\\n(833 Reviews)',\n",
       " 'Steria India Ltd\\n4.1\\n(833 Reviews)',\n",
       " 'HCL Technologies Limited\\n3.8\\n(13.2k Reviews)',\n",
       " 'GI Group\\n3.9\\n(68 Reviews)',\n",
       " 'Zyoin\\n4.2\\n(61 Reviews)',\n",
       " 'GI Group\\n3.9\\n(68 Reviews)']"
      ]
     },
     "execution_count": 11,
     "metadata": {},
     "output_type": "execute_result"
    }
   ],
   "source": [
    "company_tags=driver.find_elements_by_xpath('//div[@class=\"company-info\"]')\n",
    "for i in company_tags:\n",
    "    company=i.text\n",
    "    company_name.append(company)\n",
    "comp_name=company_name[1:11]\n",
    "comp_name\n"
   ]
  },
  {
   "cell_type": "code",
   "execution_count": 12,
   "id": "bb6e4c25",
   "metadata": {},
   "outputs": [
    {
     "data": {
      "text/plain": [
       "['12d ago']"
      ]
     },
     "execution_count": 12,
     "metadata": {},
     "output_type": "execute_result"
    }
   ],
   "source": [
    "no_tags=driver.find_elements_by_xpath('/html/body/div/div/div/div[2]/div[2]/div[2]/div[2]/div/div[1]/div[1]/div[3]/span[1]')\n",
    "for i in no_tags:\n",
    "    num=i.text\n",
    "    no_of_days.append(num)\n",
    "\n",
    "no_of_days"
   ]
  },
  {
   "cell_type": "code",
   "execution_count": 16,
   "id": "176b12ba",
   "metadata": {},
   "outputs": [
    {
     "data": {
      "text/plain": [
       "['',\n",
       " '',\n",
       " '',\n",
       " '',\n",
       " '',\n",
       " '',\n",
       " '',\n",
       " '',\n",
       " '',\n",
       " '',\n",
       " '',\n",
       " '',\n",
       " '',\n",
       " '',\n",
       " '4.1',\n",
       " '4.1',\n",
       " '4.1',\n",
       " '3.9',\n",
       " '4.1',\n",
       " '4.1',\n",
       " '3.8',\n",
       " '3.9',\n",
       " '4.2',\n",
       " '3.9']"
      ]
     },
     "execution_count": 16,
     "metadata": {},
     "output_type": "execute_result"
    }
   ],
   "source": [
    "rating_tags=driver.find_elements_by_xpath('//span[@class=\"body-small\"]')\n",
    "for i in rating_tags:\n",
    "    rate=i.text\n",
    "    rating.append(rate)\n",
    "\n",
    "rating"
   ]
  },
  {
   "cell_type": "code",
   "execution_count": null,
   "id": "0f9189eb",
   "metadata": {},
   "outputs": [],
   "source": []
  },
  {
   "cell_type": "code",
   "execution_count": null,
   "id": "a16d0b87",
   "metadata": {},
   "outputs": [],
   "source": []
  },
  {
   "cell_type": "code",
   "execution_count": null,
   "id": "c6dfb68a",
   "metadata": {},
   "outputs": [],
   "source": []
  },
  {
   "cell_type": "markdown",
   "id": "084f93ae",
   "metadata": {},
   "source": [
    "# ANS 10"
   ]
  },
  {
   "cell_type": "code",
   "execution_count": 40,
   "id": "3ead6410",
   "metadata": {},
   "outputs": [],
   "source": [
    "# connect with the driver\n",
    "\n",
    "driver=webdriver.Chrome(r'C:\\Users\\vinay\\OneDrive\\Desktop\\New folder\\Chromedriver.exe')"
   ]
  },
  {
   "cell_type": "code",
   "execution_count": 41,
   "id": "5294b39e",
   "metadata": {},
   "outputs": [],
   "source": [
    "# get the url\n",
    "driver.get('https://www.ambitionbox.com/')"
   ]
  },
  {
   "cell_type": "code",
   "execution_count": 42,
   "id": "d3852a5b",
   "metadata": {},
   "outputs": [],
   "source": [
    "#finding element for job search bar \n",
    "search_sal=driver.find_element_by_xpath('//a[@class=\"link salaries\"]')\n",
    "search_sal.click()"
   ]
  },
  {
   "cell_type": "code",
   "execution_count": 43,
   "id": "b9648c11",
   "metadata": {},
   "outputs": [],
   "source": [
    "search_profile=driver.find_element_by_xpath('//*[@id=\"jobProfileSearchbox\"]')\n",
    "search_profile.send_keys('data scientist')"
   ]
  },
  {
   "cell_type": "code",
   "execution_count": 44,
   "id": "988b5fa0",
   "metadata": {},
   "outputs": [],
   "source": [
    "search_click=driver.find_element_by_xpath('//*[@id=\"browseSalaries\"]/main/section[1]/div[2]/div[1]/span/div/div')\n",
    "search_click.click()"
   ]
  },
  {
   "cell_type": "code",
   "execution_count": 48,
   "id": "5545a47a",
   "metadata": {},
   "outputs": [
    {
     "data": {
      "text/plain": [
       "['Optum\\nbased on 10 salaries\\nAssociate Data Scientist\\n . \\n3 yrs exp',\n",
       " 'UnitedHealth\\nbased on 16 salaries\\nAssociate Data Scientist\\n . \\n2 yrs exp',\n",
       " 'TheMathCompany\\nbased on 11 salaries\\nAssociate Data Scientist\\n . \\n3 yrs exp',\n",
       " 'Cognizant\\nbased on 27 salaries\\nAssociate Data Scientist\\n . \\n3-4 yrs exp',\n",
       " 'TCS\\nbased on 14 salaries\\nAssociate Data Scientist\\n . \\n3 yrs exp',\n",
       " 'TCS\\n3.2\\nSalary Rating \\n25.2k reviews',\n",
       " 'Cognizant\\n3.3\\nSalary Rating \\n18.1k reviews',\n",
       " 'Accenture\\n3.6\\nSalary Rating \\n20k reviews',\n",
       " '',\n",
       " '',\n",
       " '',\n",
       " '',\n",
       " '',\n",
       " '',\n",
       " '',\n",
       " '',\n",
       " '',\n",
       " '',\n",
       " '',\n",
       " '']"
      ]
     },
     "execution_count": 48,
     "metadata": {},
     "output_type": "execute_result"
    }
   ],
   "source": [
    "company_name=[]\n",
    "comp_tags=driver.find_elements_by_xpath('//div[@class=\"company-info\"]')\n",
    "\n",
    "for i in comp_tags:\n",
    "    company_name.append(i.text)\n",
    "    \n",
    "company_name   "
   ]
  },
  {
   "cell_type": "code",
   "execution_count": null,
   "id": "13764114",
   "metadata": {},
   "outputs": [],
   "source": []
  }
 ],
 "metadata": {
  "kernelspec": {
   "display_name": "Python 3",
   "language": "python",
   "name": "python3"
  },
  "language_info": {
   "codemirror_mode": {
    "name": "ipython",
    "version": 3
   },
   "file_extension": ".py",
   "mimetype": "text/x-python",
   "name": "python",
   "nbconvert_exporter": "python",
   "pygments_lexer": "ipython3",
   "version": "3.8.8"
  }
 },
 "nbformat": 4,
 "nbformat_minor": 5
}
