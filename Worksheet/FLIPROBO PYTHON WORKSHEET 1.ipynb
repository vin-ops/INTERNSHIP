{
 "cells": [
  {
   "cell_type": "markdown",
   "id": "752c0040",
   "metadata": {},
   "source": [
    "ANS 11.FACTORIAL OF A NUMBER "
   ]
  },
  {
   "cell_type": "code",
   "execution_count": null,
   "id": "ae3eb183",
   "metadata": {},
   "outputs": [],
   "source": [
    "6//2"
   ]
  },
  {
   "cell_type": "markdown",
   "id": "906d81be",
   "metadata": {},
   "source": [
    "ANS 12.FIND OUT THE NUMBER IS PRIME OR COMPOSITE"
   ]
  },
  {
   "cell_type": "code",
   "execution_count": 6,
   "id": "eed0e458",
   "metadata": {},
   "outputs": [
    {
     "name": "stdout",
     "output_type": "stream",
     "text": [
      "not prime\n"
     ]
    }
   ],
   "source": [
    "num=6\n",
    "for i in range(2,num):\n",
    "    \n",
    "    if num%i==0:\n",
    "      print('not prime')\n",
    "      break\n",
    "else:\n",
    "        print('prime')\n",
    "    "
   ]
  },
  {
   "cell_type": "code",
   "execution_count": 7,
   "id": "3b8d0a0d",
   "metadata": {},
   "outputs": [
    {
     "name": "stdout",
     "output_type": "stream",
     "text": [
      "prime\n"
     ]
    }
   ],
   "source": [
    "num= 17\n",
    "for i in range(2,num):\n",
    "    if num%i==0:\n",
    "        print('not prime ')\n",
    "        break\n",
    "else:\n",
    "    print('prime')\n"
   ]
  },
  {
   "cell_type": "markdown",
   "id": "30f28a2b",
   "metadata": {},
   "source": [
    "ANS 13.PLIMDROME OR NOT"
   ]
  },
  {
   "cell_type": "code",
   "execution_count": 10,
   "id": "964716b2",
   "metadata": {},
   "outputs": [
    {
     "name": "stdout",
     "output_type": "stream",
     "text": [
      "enter a string madam\n",
      "string is palindrome\n"
     ]
    }
   ],
   "source": [
    "s= input('enter a string ')\n",
    "\n",
    "reverse=list[::-1]\n",
    "\n",
    "if reverse==list:\n",
    "    print('string is palindrome')\n",
    "    \n",
    "else:\n",
    "    print('not palindrome')\n"
   ]
  },
  {
   "cell_type": "markdown",
   "id": "e3be9fd5",
   "metadata": {},
   "source": [
    "ANS 14. "
   ]
  },
  {
   "cell_type": "code",
   "execution_count": 11,
   "id": "905cd5cd",
   "metadata": {},
   "outputs": [],
   "source": [
    "# FORMULA\n",
    "\n",
    "# c= sqrt(a**2+b**2)"
   ]
  },
  {
   "cell_type": "code",
   "execution_count": 17,
   "id": "3ff5745a",
   "metadata": {},
   "outputs": [
    {
     "name": "stdout",
     "output_type": "stream",
     "text": [
      "a:10\n",
      "b:10\n",
      "the side of the triangle is  14.142135623730951\n"
     ]
    }
   ],
   "source": [
    "from math import sqrt\n",
    "\n",
    "a=float(input('a:'))\n",
    "b=float(input('b:'))\n",
    "\n",
    "c=sqrt(a**2+b**2)   \n",
    "print('the side of the triangle is ',c)\n"
   ]
  },
  {
   "cell_type": "markdown",
   "id": "5e45abd5",
   "metadata": {},
   "source": [
    "ANS 15"
   ]
  },
  {
   "cell_type": "code",
   "execution_count": 18,
   "id": "a97f018f",
   "metadata": {},
   "outputs": [],
   "source": [
    " #python program to print the frequency of each of the characters present in a given string"
   ]
  },
  {
   "cell_type": "code",
   "execution_count": 20,
   "id": "7563ac91",
   "metadata": {},
   "outputs": [
    {
     "name": "stdout",
     "output_type": "stream",
     "text": [
      "enter a stringvvvtttedrs\n",
      "{'v': 3, 't': 3, 'e': 1, 'd': 1, 'r': 1, 's': 1}\n"
     ]
    }
   ],
   "source": [
    "strg=input('enter a string')\n",
    "d1=dict()\n",
    "\n",
    "for c in strg:\n",
    "    if c in d1:\n",
    "        d1[c]=d1[c]+1\n",
    "    else:\n",
    "        d1[c]=1\n",
    "        \n",
    "print(d1)\n",
    "    "
   ]
  },
  {
   "cell_type": "code",
   "execution_count": null,
   "id": "5e2fcf87",
   "metadata": {},
   "outputs": [],
   "source": [
    "# it shows v is appearing 3times, t is appearing 3 times and so on "
   ]
  }
 ],
 "metadata": {
  "kernelspec": {
   "display_name": "Python 3",
   "language": "python",
   "name": "python3"
  },
  "language_info": {
   "codemirror_mode": {
    "name": "ipython",
    "version": 3
   },
   "file_extension": ".py",
   "mimetype": "text/x-python",
   "name": "python",
   "nbconvert_exporter": "python",
   "pygments_lexer": "ipython3",
   "version": "3.8.8"
  }
 },
 "nbformat": 4,
 "nbformat_minor": 5
}
